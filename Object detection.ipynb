{
 "cells": [
  {
   "cell_type": "code",
   "execution_count": null,
   "metadata": {},
   "outputs": [],
   "source": [
    "from tensorflow import keras\n",
    "import tensorflow as tf"
   ]
  },
  {
   "cell_type": "code",
   "execution_count": null,
   "metadata": {},
   "outputs": [],
   "source": [
    "from keras.models import load_model"
   ]
  },
  {
   "cell_type": "code",
   "execution_count": null,
   "metadata": {},
   "outputs": [],
   "source": [
    "ModelAngle=load_model(\"CarRotation.h5\")"
   ]
  },
  {
   "cell_type": "code",
   "execution_count": null,
   "metadata": {},
   "outputs": [],
   "source": [
    "import cv2 as cv\n",
    "from ultralytics import YOLO\n",
    "yolo=YOLO('yolov8n.yaml')\n",
    "video=cv.VideoCapture(r\"D:\\Cars Project\\30 Minutes of Cars Driving By in 2009_3.mp4\")\n",
    "cap = video\n",
    "frames=[]\n",
    "# Check if the video was opened successfully\n",
    "if not cap.isOpened():\n",
    "    print(\"Error opening the video file.\")\n",
    "\n",
    "# Read the frames from the video file\n",
    "for i in range(100):\n",
    "    # Capture the frame from the video\n",
    "    ret, frame = cap.read()\n",
    "    res=yolo(frame)\n",
    "    images=res[0].boxes.data\n",
    "    image = cv.rectangle(image, (x, y), (x + w, y + h), (36,255,12), 1)\n",
    "    cv.putText(image, 'Fedex', (x, y-10), cv.FONT_HERSHEY_SIMPLEX, 0.9, (36,255,12), 2)\n",
    "    # Break the loop if the video has ended or there was an error reading the frame\n",
    "    if not ret:\n",
    "        break\n",
    "    # Break the loop if the user presses the 'q' key\n",
    "    if cv.waitKey(25) & 0xFF == ord('q'):\n",
    "        break\n",
    "# Release the video capture object\n",
    "# cap.release()"
   ]
  },
  {
   "cell_type": "code",
   "execution_count": null,
   "metadata": {},
   "outputs": [],
   "source": [
    "for i in range(100):\n",
    "    # Capture the frame from the video\n",
    "    ret, frame = cap.read()\n",
    "    frames.append(frame)\n",
    "    # Break the loop if the video has ended or there was an error reading the frame\n",
    "    if not ret:\n",
    "        break\n",
    "    # Break the loop if the user presses the 'q' key\n",
    "    if cv.waitKey(25) & 0xFF == ord('q'):\n",
    "        break"
   ]
  },
  {
   "cell_type": "code",
   "execution_count": null,
   "metadata": {},
   "outputs": [],
   "source": [
    "from matplotlib import pyplot as plt\n",
    "plt.imshow(frames[-1])"
   ]
  },
  {
   "cell_type": "code",
   "execution_count": null,
   "metadata": {},
   "outputs": [],
   "source": [
    "plt.imshow(frames[-1][300:550,400:800])"
   ]
  },
  {
   "cell_type": "code",
   "execution_count": null,
   "metadata": {},
   "outputs": [],
   "source": [
    "import numpy as np\n",
    "image=frames[-1][300:550,400:800]"
   ]
  },
  {
   "cell_type": "code",
   "execution_count": null,
   "metadata": {},
   "outputs": [],
   "source": [
    "image=tf.image.resize(np.flip(image,axis=2)/255, (80,140))"
   ]
  },
  {
   "cell_type": "code",
   "execution_count": null,
   "metadata": {},
   "outputs": [],
   "source": [
    "ModelAngle.predict(np.array([image])),plt.imshow(image)"
   ]
  },
  {
   "cell_type": "code",
   "execution_count": null,
   "metadata": {},
   "outputs": [],
   "source": [
    "plt.imshow(image)"
   ]
  },
  {
   "cell_type": "code",
   "execution_count": null,
   "metadata": {},
   "outputs": [],
   "source": [
    "import cv2\n",
    "import numpy as np\n",
    "import time\n",
    "import tensorflow as tf\n",
    "images=[]\n",
    "bt=time.time()\n",
    "images_locations=dict()\n",
    "for i in range(1,21):\n",
    "  with open(f\"epfl-gims08/tripod-seq/bbox_{str(i).zfill(2)}.txt\") as f:\n",
    "    lines=f.readlines()\n",
    "    for ind,line in enumerate(lines):\n",
    "      coordinates=list(map(float,line.split()))\n",
    "      coordinates=[int(i) for i in coordinates]\n",
    "      images_locations[f\"epfl-gims08/tripod-seq/tripod_seq_{str(i).zfill(2)}_{str(ind+1).zfill(3)}.jpg\"]=[int(i) for i in coordinates]+[i]\n",
    "import cv2\n",
    "import concurrent.futures\n",
    "def load_image(image_path):\n",
    "    coordinates=images_locations[image_path]\n",
    "    return cv2.imread(image_path)[coordinates[1]:coordinates[1]+coordinates[3],coordinates[0]:coordinates[0]+coordinates[2]],coordinates[-1]\n",
    "image_paths = images_locations.keys()\n",
    "with concurrent.futures.ThreadPoolExecutor() as executor:\n",
    "    loaded_images = list(executor.map(load_image, image_paths))"
   ]
  },
  {
   "cell_type": "code",
   "execution_count": null,
   "metadata": {},
   "outputs": [],
   "source": [
    "low_res_images=[]\n",
    "for i in loaded_images:\n",
    "  low_res_images.append([tf.image.resize(np.flip(i[0],axis=2)/255, (80,140)),i[1]])"
   ]
  },
  {
   "cell_type": "code",
   "execution_count": null,
   "metadata": {},
   "outputs": [],
   "source": [
    "d=dict()\n",
    "for i in low_res_images:\n",
    "  if i[1] in d:\n",
    "    d[i[1]].append(i[0])\n",
    "  else:\n",
    "    d[i[1]]=[i[0]]"
   ]
  },
  {
   "cell_type": "code",
   "execution_count": null,
   "metadata": {},
   "outputs": [],
   "source": [
    "d.keys()"
   ]
  },
  {
   "cell_type": "code",
   "execution_count": null,
   "metadata": {},
   "outputs": [],
   "source": [
    "with open(\"epfl-gims08/tripod-seq/tripod-seq.txt\") as f:\n",
    "  lines=f.readlines()\n",
    "  l=[]\n",
    "  number_of_frames=list(map(int,lines[1].split()))\n",
    "  frames_with_turns=list(map(int,lines[4].split()))\n",
    "  frames_with_starting=list(map(int,lines[5].split()))\n",
    "  rotation=list(map(int,lines[6].split()))\n",
    "  for i in range(20):\n",
    "    l.append([number_of_frames[i],frames_with_turns[i],frames_with_starting[i],rotation[i]])"
   ]
  },
  {
   "cell_type": "code",
   "execution_count": null,
   "metadata": {},
   "outputs": [],
   "source": [
    "angles=[]\n",
    "for ind,i in enumerate(l):\n",
    "  angles.append([])\n",
    "  turn_per_frame=float(360/(i[1]))\n",
    "  angle=360-turn_per_frame*i[2] if i[-1]==1 else turn_per_frame*i[2]\n",
    "  for j in range(i[0]):\n",
    "    if angle>=360:\n",
    "      angle=0\n",
    "    if angle<0:\n",
    "      angle=360\n",
    "    angles[-1].append(angle)\n",
    "    d[ind+1][j]=[d[ind+1][j],angle]\n",
    "    angle+=(turn_per_frame*i[-1])"
   ]
  },
  {
   "cell_type": "code",
   "execution_count": null,
   "metadata": {},
   "outputs": [],
   "source": [
    "def cal(sum_value,coins=[1,2,3],level=0,d=dict()):\n",
    "    count=0\n",
    "    print(\"  \"*level,sum_value,coins,d)\n",
    "    if sum_value<0:\n",
    "        return 0\n",
    "    if sum_value==0:\n",
    "        return 1\n",
    "    if (sum_value,str(coins)) in d:\n",
    "        return d[(sum_value,str(coins))]\n",
    "    for i in coins:\n",
    "        if sum_value-i<0:\n",
    "            break\n",
    "        count+=cal(sum_value-i,coins[:],level+1,d)\n",
    "        coins.remove(i)\n",
    "    d[(sum_value,str(coins))]=count\n",
    "    return count"
   ]
  },
  {
   "cell_type": "code",
   "execution_count": null,
   "metadata": {},
   "outputs": [],
   "source": [
    "cal(5)"
   ]
  },
  {
   "cell_type": "code",
   "execution_count": null,
   "metadata": {},
   "outputs": [],
   "source": [
    "a=[11,22,333,412]"
   ]
  },
  {
   "cell_type": "code",
   "execution_count": null,
   "metadata": {},
   "outputs": [],
   "source": [
    "a.remove(11)"
   ]
  },
  {
   "cell_type": "code",
   "execution_count": null,
   "metadata": {},
   "outputs": [],
   "source": [
    "d=dict()\n",
    "import re\n",
    "for j in range(7481):\n",
    "    with open(fr\"D:\\Cars Project\\training\\label_2\\{str(j).zfill(6)}.txt\") as f:\n",
    "        lines = f.readlines()\n",
    "        for i in lines:\n",
    "            if i=='\\n':\n",
    "                continue\n",
    "            i=re.sub(r':\\[\\]\\n','',i)\n",
    "            values=i.split()\n",
    "            if values[0]=='Car':\n",
    "                if str(j).zfill(6) in d:\n",
    "                    d[str(j).zfill(6)].append(list(map(float,values[1:])))\n",
    "                else:\n",
    "                    d[str(j).zfill(6)]=[list(map(float,values[1:]))]"
   ]
  },
  {
   "cell_type": "code",
   "execution_count": null,
   "metadata": {},
   "outputs": [],
   "source": [
    "d['000001'][0]"
   ]
  },
  {
   "cell_type": "code",
   "execution_count": null,
   "metadata": {},
   "outputs": [],
   "source": [
    "import cv2 as cv\n",
    "from matplotlib import pyplot as plt\n",
    "plt.imshow(cv.imread(r\"D:\\Cars Project\\training\\image_2\\000001.png\"))"
   ]
  },
  {
   "cell_type": "code",
   "execution_count": null,
   "metadata": {},
   "outputs": [],
   "source": [
    "a=[1,2,3,54,6,7]\n",
    "a1=a[:int(len(a)/2)]\n",
    "a2=a[int(len(a)/2):]\n",
    "display(a1,a2)\n",
    "\n",
    "a3="
   ]
  },
  {
   "cell_type": "code",
   "execution_count": null,
   "metadata": {},
   "outputs": [],
   "source": [
    "!pip install binarytree"
   ]
  },
  {
   "cell_type": "code",
   "execution_count": null,
   "metadata": {},
   "outputs": [],
   "source": [
    "a=[x for x in range(10)]"
   ]
  },
  {
   "cell_type": "code",
   "execution_count": null,
   "metadata": {},
   "outputs": [],
   "source": [
    "from binarytree import Node"
   ]
  },
  {
   "cell_type": "code",
   "execution_count": null,
   "metadata": {},
   "outputs": [],
   "source": [
    "\n",
    "root=Node(str(a))\n",
    "q=[(a,root)]\n",
    "while len(a)>1:\n",
    "    a,node=q.pop(0)\n",
    "    a1=a[:int(len(a)/2)]\n",
    "    a2=a[int(len(a)/2):]\n",
    "    node.left=Node(str(a1))\n",
    "    node.right=Node(str(a2))\n",
    "    q.append((a1,node.left))\n",
    "    q.append((a2,node.right))\n",
    "    print(a1,a2)\n"
   ]
  },
  {
   "cell_type": "code",
   "execution_count": null,
   "metadata": {},
   "outputs": [],
   "source": [
    "print(root)"
   ]
  },
  {
   "cell_type": "code",
   "execution_count": null,
   "metadata": {},
   "outputs": [],
   "source": [
    "def merge(l1,l2):\n",
    "    b=[]\n",
    "    i,j=0,0\n",
    "    while True:\n",
    "        if l1[i]<=l2[j]:\n",
    "            b.append(l1[i])\n",
    "            i+=1\n",
    "        if i>=len(l1):\n",
    "            b+=l2[j:]\n",
    "            break\n",
    "        if l1[i]>=l2[j]:\n",
    "            b.append(l2[j])\n",
    "            j+=1\n",
    "        if j>=len(l2):\n",
    "            b+=l1[i:]\n",
    "            break\n",
    "    return b\n",
    "def sort(l):\n",
    "    if len(l)==1:\n",
    "        return l\n",
    "    if len(l)==2:\n",
    "        if l[0]<l[1]:\n",
    "            return [l[0],l[1]]\n",
    "        else:\n",
    "            return [l[1],l[0]]\n",
    "    l1,l2=l[:int(len(l)/2)],l[int(len(l)/2):]\n",
    "    l1=sort(l1)\n",
    "    l2=sort(l2)\n",
    "    l=merge(l1,l2)\n",
    "    return l\n"
   ]
  },
  {
   "cell_type": "code",
   "execution_count": null,
   "metadata": {},
   "outputs": [],
   "source": [
    "def solve(length,a,costarray=[],li=[],cost=0,answer=0,d=dict()):\n",
    "    if (tuple(a),length) in d:\n",
    "        return d[(tuple(a),length)]\n",
    "    for ind,i in enumerate(a):\n",
    "        if length-i<0:\n",
    "            a=a[:ind]\n",
    "            break\n",
    "    if length==0:\n",
    "        return cost\n",
    "    if length<0:\n",
    "        return 0\n",
    "    for ind,i in enumerate(a):\n",
    "        answer=max(solve(length-i,a[ind:],costarray,li+[i],cost+costarray[i-1],answer,d),answer)\n",
    "    d[(tuple(a),length)]=answer\n",
    "    return answer\n"
   ]
  },
  {
   "cell_type": "code",
   "execution_count": null,
   "metadata": {},
   "outputs": [],
   "source": [
    "n=8\n",
    "solve(6,list(range(1,7)),[2, 2, 2, 3, 5, 7])\n"
   ]
  },
  {
   "cell_type": "code",
   "execution_count": null,
   "metadata": {},
   "outputs": [],
   "source": [
    "solve(8,list(range(1,9)),[1,5,8,9,10,17,17,20])"
   ]
  },
  {
   "cell_type": "code",
   "execution_count": null,
   "metadata": {},
   "outputs": [],
   "source": []
  },
  {
   "cell_type": "code",
   "execution_count": null,
   "metadata": {},
   "outputs": [],
   "source": [
    "from binarytree import Node\n",
    "def solve(root,costarray,lis,lvl=0,index=0,val=0,dp=dict()):\n",
    "    print(\"    \"*lvl,root.value,val,{},(root.value,index))\n",
    "    if index>=len(lis):\n",
    "        return 0\n",
    "    if root.value==0:\n",
    "        return costarray[lis[index]-1]\n",
    "    if (root.value,lis[index]) in dp:\n",
    "        print(dp[(root.value,lis[index])],(root.value,lis[index]))\n",
    "        return dp[(root.value,lis[index])]+val\n",
    "    if root.value-lis[index]>=0:\n",
    "        root.left=Node(root.value-lis[index])\n",
    "        root.right=Node(root.value)\n",
    "        cost1=solve(root.left,costarray,lis,lvl+1,index,costarray[index],dp)\n",
    "        cost2=solve(root.right,costarray,lis,lvl+1,index+1,0,dp)\n",
    "        print(cost1,cost2)\n",
    "        # dp[root.value,lis[index]]=max(cost1,cost2)+val\n",
    "        return max(cost1,cost2)+val\n",
    "    return 0\n",
    "root=Node(5)\n",
    "solve(root,[1, 5, 8, 9, 10, 17, 17, 20],[1,2,3,4,5])"
   ]
  },
  {
   "cell_type": "code",
   "execution_count": null,
   "metadata": {},
   "outputs": [],
   "source": [
    "print(root)"
   ]
  },
  {
   "cell_type": "code",
   "execution_count": null,
   "metadata": {},
   "outputs": [],
   "source": [
    "print(root)"
   ]
  },
  {
   "cell_type": "code",
   "execution_count": null,
   "metadata": {},
   "outputs": [],
   "source": [
    "def solve(length,costarray,index=1,dp={},lvl=0,val=0):\n",
    "    print(\"    \"*lvl,length,index)\n",
    "    if index>=len(costarray):\n",
    "        return 0\n",
    "    if length<0:\n",
    "        return 0\n",
    "    if length==0:\n",
    "        return costarray[index-1]\n",
    "    if (length,index) in dp:\n",
    "        return dp[(length,index)]+val\n",
    "    if length-index>=0:\n",
    "        cost1=solve(length-index,costarray,index,dp,lvl+1,costarray[index-1])\n",
    "        cost2=solve(length,costarray,index+1,dp,lvl+1,0)\n",
    "        dp[(length,index)]=max(cost1,cost2)+val\n",
    "        return max(cost2,cost1)+val\n",
    "    return 0\n",
    "class Solution:\n",
    "    def __init__(self, price, n):\n",
    "        self.d=dict()\n",
    "        answer=self.solve(n,price)\n",
    "        self.d=dict()\n",
    "        self.answer=answer\n",
    "    def solve(self,length,costarray,index=1,lvl=0,val=0):\n",
    "        print(\"    \"*lvl,length,index)\n",
    "        if index>=len(costarray):\n",
    "            return 0\n",
    "        if length<0:\n",
    "            return 0\n",
    "        if length==0:\n",
    "            return costarray[index-1]\n",
    "        if (length,index) in self.d:\n",
    "            return self.d[(length,index)]+val\n",
    "        if length-index>=0:\n",
    "            cost1=self.solve(length-index,costarray,index,lvl+1,costarray[index-1])\n",
    "            cost2=self.solve(length,costarray,index+1,lvl+1,0)\n",
    "            self.d[(length,index)]=max(cost1,cost2)+val\n",
    "            return max(cost2,cost1)+val\n",
    "        return 0"
   ]
  },
  {
   "cell_type": "code",
   "execution_count": null,
   "metadata": {},
   "outputs": [],
   "source": [
    "Solution([1, 1, 3, 4, 4, 6, 8, 9, 11],9).answer,solve(9,[1, 1, 3, 4, 4, 6, 8, 9, 11])"
   ]
  },
  {
   "cell_type": "code",
   "execution_count": null,
   "metadata": {},
   "outputs": [],
   "source": [
    "def solve(length,costarray,index=1,val=0,d={}):\n",
    "    if length<0:\n",
    "        return 0\n",
    "    if index>len(costarray):\n",
    "        return 0\n",
    "    if length==0:\n",
    "        return val\n",
    "    if (length,index) in d:\n",
    "        return d[(length,index)]+val\n",
    "    if length-index>=0:\n",
    "\n",
    "        cost=max(   solve(length-index,costarray,index,costarray[index-1]),\n",
    "                    solve(length,costarray,index+1,0)   )\n",
    "        d[(length,index)]=cost+val\n",
    "        return cost+val\n",
    "    return 0\n",
    "solve(5,[1, 5, 8, 9, 10])"
   ]
  },
  {
   "cell_type": "code",
   "execution_count": null,
   "metadata": {},
   "outputs": [],
   "source": [
    "print(root)"
   ]
  },
  {
   "cell_type": "code",
   "execution_count": null,
   "metadata": {},
   "outputs": [],
   "source": [
    "\n",
    "def solve_01(root,weightarray,costarray,val=0,index=0,d={}):\n",
    "    if int(root.value[0])<0:\n",
    "        return 0\n",
    "    if int(root.value[0])==0:\n",
    "        return val\n",
    "    if index>=len(weightarray):\n",
    "        return 0\n",
    "    if int(root.value[0])-weightarray[index]>=0:\n",
    "        root.left=Node(f\"{int(root.value[0])-weightarray[index]} - {costarray[index]}\")\n",
    "        root.right=Node(f\"{int(root.value[0])} - {val}\")\n",
    "        weights=weightarray[:]\n",
    "        weights.pop(index)\n",
    "        cost=max(solve_01(root.left,weights,costarray,costarray[index],index,d),\n",
    "                 solve_01(root.right,weightarray,costarray,0,index+1,d))\n",
    "        root.value=f\"{root.value} return {cost+val}\"\n",
    "        return cost+val\n",
    "    retu"
   ]
  },
  {
   "cell_type": "code",
   "execution_count": null,
   "metadata": {},
   "outputs": [],
   "source": [
    "root=Node(\"4-0\")\n",
    "solve_01(root,[4,5,1],[1,2,3])"
   ]
  },
  {
   "cell_type": "code",
   "execution_count": null,
   "metadata": {},
   "outputs": [],
   "source": [
    "print(root)"
   ]
  },
  {
   "cell_type": "code",
   "execution_count": null,
   "metadata": {},
   "outputs": [],
   "source": [
    "from binarytree import Node\n",
    "l2=[]\n",
    "def solve(root,costarray,lis,lvl=0,index=0,val=0,dp=dict(),k=[]):\n",
    "    global l2\n",
    "    if int(root.value.split()[0])<0:\n",
    "        return 0\n",
    "    if index>=len(lis):\n",
    "        if int(root.value.split()[0])>=0:\n",
    "            return val\n",
    "        l2.append(k)\n",
    "        return 0\n",
    "    if int(root.value.split()[0])==0:\n",
    "        print(k)\n",
    "        return val\n",
    "    # if (index,int(root.value.split()[0])) in dp:\n",
    "    #     return dp[(index,int(root.value.split()[0]))]+val\n",
    "    if int(root.value.split()[0])-lis[index]>=0:\n",
    "        root.left=Node(f\"{str(int(root.value.split()[0])-lis[index])}\")\n",
    "        root.right=Node(f\"{str(int(root.value.split()[0]))}\")\n",
    "        cost=max(   solve(root.left,costarray,lis,lvl+1,index+1,costarray[index],dp,k+[lis[index]]),\n",
    "                    solve(root.right,costarray,lis,lvl+1,index+1,0,dp,k))\n",
    "        dp[(index,int(root.value.split()[0]))]=cost\n",
    "        root.value=f\"{root.value} return {cost+val} ind={index}\"\n",
    "        return cost+val\n",
    "    root.value=f\"{root.value} return {val} ind={index}\"\n",
    "    dp[(index,int(root.value.split()[0]))]=val\n",
    "    return val\n",
    "root=Node(\"30 0\")\n",
    "weights=list(map(int,\"9 8 7 6 5 4 3 2 1\".split()))\n",
    "values=list(map(int,\"1 2 3 4 5 6 7 8 9\".split()))\n",
    "c=[[weights[i],values[i]] for i in range(len(weights))]\n",
    "c=sorted(c,key=lambda x:x[0])\n",
    "solve(root,[x[1] for x in c],[x[0] for x in c])"
   ]
  },
  {
   "cell_type": "code",
   "execution_count": null,
   "metadata": {},
   "outputs": [],
   "source": [
    "sorted(weights)"
   ]
  },
  {
   "cell_type": "code",
   "execution_count": null,
   "metadata": {},
   "outputs": [],
   "source": [
    "c"
   ]
  },
  {
   "cell_type": "code",
   "execution_count": null,
   "metadata": {},
   "outputs": [],
   "source": [
    "print(root)"
   ]
  },
  {
   "cell_type": "code",
   "execution_count": null,
   "metadata": {},
   "outputs": [],
   "source": [
    "print(root)"
   ]
  },
  {
   "cell_type": "code",
   "execution_count": null,
   "metadata": {},
   "outputs": [],
   "source": [
    "from binarytree import Node\n",
    "l2=[]\n",
    "def solve(root,costarray,weightarray,lvl=0,index=0,val=0,dp=dict(),k=[]):\n",
    "    if int(root.value.split()[0])<0:\n",
    "        return 0\n",
    "    if index>=len(weightarray):\n",
    "        return val\n",
    "    if int(root.value.split()[0])==0:\n",
    "        return val\n",
    "    if (index,int(root.value.split()[0])) in dp:\n",
    "        return dp[(index,int(root.value.split()[0]))]+val\n",
    "    root.left=Node(f\"{int(root.value.split()[0])-weightarray[index]} val={costarray[index]} index={index+1}\")\n",
    "    root.right=Node(f\"{int(root.value.split()[0])} val={0} index={index+1}\")\n",
    "    cost=max(     solve(root.left,costarray,weightarray,lvl+1,index+1,costarray[index],dp,k+[weightarray[index]]),\n",
    "                    solve(root.right,costarray,weightarray,lvl+1,index+1,0,dp,k+[weightarray[index]]))\n",
    "    dp[(index,int(root.value.split()[0]))]=cost\n",
    "    root.value=f\"{root.value} return_val={cost+val}\"\n",
    "    return cost+val\n",
    "root=Node(\"80 0\")\n",
    "weights=list(map(int,\"53 63 28 66 82 59 12 34 89 90 98 46 35 34 7 86 11 41 41 96 50 74 13 6 58 27 28 25 46 96 26 56 15 2 27 20 54 12 39 42 72 26 84 50 94 84 41 98 59 81 9 22 30\".split()))\n",
    "values=list(map(int,\"17 59 2 29 61 76 72 26 52 94 35 43 74 33 30 71 29 60 67 59 12 78 95 38 99 31 54 82 5 55 69 86 63 68 3 56 67 92 33 93 29 68 20 59 36 90 67 2 1 34 46 59 3\".split()))\n",
    "c=[[weights[i],values[i]] for i in range(len(weights))]\n",
    "c=sorted(c,key=lambda x:x[0])\n",
    "solve(root,[x[1] for x in c],[x[0] for x in c])"
   ]
  },
  {
   "cell_type": "code",
   "execution_count": null,
   "metadata": {},
   "outputs": [],
   "source": [
    "print(root)"
   ]
  },
  {
   "cell_type": "code",
   "execution_count": null,
   "metadata": {},
   "outputs": [],
   "source": [
    "print(root)"
   ]
  },
  {
   "cell_type": "code",
   "execution_count": null,
   "metadata": {},
   "outputs": [],
   "source": [
    "from itertools import combinations_with_replacement\n",
    "# a=combinations(list(map(int,\"\".split())),2)\n",
    "l2=[]\n",
    "# di={weights[i]:values[i] for i in range(len(weights))}\n",
    "for i in range(1,10):\n",
    "    for j in combinations_with_replacement([1,2,3,4,5,6,7,8,9],i):\n",
    "        if sum(j)==9:\n",
    "            l2.append(list(j))\n"
   ]
  },
  {
   "cell_type": "code",
   "execution_count": null,
   "metadata": {},
   "outputs": [],
   "source": [
    "len(l2),len(l)"
   ]
  },
  {
   "attachments": {},
   "cell_type": "markdown",
   "metadata": {},
   "source": [
    "# Working Sollution for 01 knapsack"
   ]
  },
  {
   "cell_type": "code",
   "execution_count": null,
   "metadata": {},
   "outputs": [],
   "source": [
    "def solve(weight,costarray,weightarray,index=0,val=0,dp=dict()):\n",
    "    if weight<0:\n",
    "        return 0\n",
    "    if index>=len(weightarray):\n",
    "        return val\n",
    "    if weight==0:\n",
    "        return val\n",
    "    if (index,weight) in dp:\n",
    "        return dp[(index,weight)]+val\n",
    "    cost=max(     solve(weight-weightarray[index],costarray,weightarray,index+1,costarray[index],dp),\n",
    "                solve(weight,costarray,weightarray,index+1,0,dp))\n",
    "    dp[(index,weight)]=cost\n",
    "    return cost+val\n",
    "root=Node(\"80 0\")\n",
    "weights=list(map(int,\"53 63 28 66 82 59 12 34 89 90 98 46 35 34 7 86 11 41 41 96 50 74 13 6 58 27 28 25 46 96 26 56 15 2 27 20 54 12 39 42 72 26 84 50 94 84 41 98 59 81 9 22 30\".split()))\n",
    "values=list(map(int,\"17 59 2 29 61 76 72 26 52 94 35 43 74 33 30 71 29 60 67 59 12 78 95 38 99 31 54 82 5 55 69 86 63 68 3 56 67 92 33 93 29 68 20 59 36 90 67 2 1 34 46 59 3\".split()))\n",
    "c=[[weights[i],values[i]] for i in range(len(weights))]\n",
    "c=sorted(c,key=lambda x:x[0])\n",
    "solve(80,[x[1] for x in c],[x[0] for x in c])"
   ]
  },
  {
   "cell_type": "code",
   "execution_count": null,
   "metadata": {},
   "outputs": [],
   "source": [
    "len(l)"
   ]
  },
  {
   "cell_type": "code",
   "execution_count": null,
   "metadata": {},
   "outputs": [],
   "source": [
    "len(l2)"
   ]
  },
  {
   "cell_type": "code",
   "execution_count": null,
   "metadata": {},
   "outputs": [],
   "source": []
  },
  {
   "cell_type": "code",
   "execution_count": null,
   "metadata": {},
   "outputs": [],
   "source": [
    "c"
   ]
  },
  {
   "cell_type": "code",
   "execution_count": null,
   "metadata": {},
   "outputs": [],
   "source": [
    "Solution().knapSack(781,[x[1] for x in c],[x[0] for x in c],71)"
   ]
  },
  {
   "cell_type": "code",
   "execution_count": null,
   "metadata": {},
   "outputs": [],
   "source": [
    "class Solution:\n",
    "    #Function to return max value that can be put in knapsack of capacity W.\n",
    "    def knapSack(self,W, wt, val, n):\n",
    "        self.d={}\n",
    "        a=[[wt[i],val[i]] for i in range(len(val))]\n",
    "        a=sorted(a,key=lambda x:x[0])\n",
    "        answer=self.solve_01(W,[x[1] for x in a],[x[0] for x in a])\n",
    "        self.d={}\n",
    "        return answer\n",
    "\n",
    "    def solve_01(self,weight,weightarray,costarray,val=0,index=0):\n",
    "        if weight<0:\n",
    "            return 0\n",
    "        if weight==0:\n",
    "            return val\n",
    "        if index>=len(weightarray):\n",
    "            if weight>0:\n",
    "                return val\n",
    "            return 0\n",
    "        if (index,weight) in self.d:\n",
    "            return self.d[(index,weight)]+val\n",
    "        if weight-weightarray[index]>=0:\n",
    "            cost=max(self.solve_01(weight-weightarray[index],weightarray,costarray,costarray[index],index+1),\n",
    "                     self.solve_01(weight,weightarray,costarray,0,index+1))\n",
    "            self.d[(index,weight)]=cost+val\n",
    "            return cost+val\n",
    "        self.d[(index,weight)]=val\n",
    "        return val"
   ]
  },
  {
   "cell_type": "code",
   "execution_count": null,
   "metadata": {},
   "outputs": [],
   "source": [
    "def solve_coins(length,costarray,index=0,dp={}):\n",
    "    if index>=len(costarray):\n",
    "        return 0\n",
    "    if length<0:\n",
    "        return 0\n",
    "    if length==0:\n",
    "        return 1\n",
    "    if (length,index) in dp: \n",
    "        return dp[(length,index)]\n",
    "    cost=solve_coins(length-costarray[index],costarray,index,dp)+solve_coins(length,costarray,index+1,dp)\n",
    "    dp[(length,index)]=cost\n",
    "    return cost\n",
    "solve_coins(10,[2,5,3,6])"
   ]
  },
  {
   "cell_type": "code",
   "execution_count": null,
   "metadata": {},
   "outputs": [],
   "source": [
    "print(root)"
   ]
  },
  {
   "cell_type": "code",
   "execution_count": null,
   "metadata": {},
   "outputs": [],
   "source": [
    "l={tuple(x) for x in l}"
   ]
  },
  {
   "cell_type": "code",
   "execution_count": null,
   "metadata": {},
   "outputs": [],
   "source": [
    "l2={tuple(x) for x in l2}"
   ]
  },
  {
   "cell_type": "code",
   "execution_count": null,
   "metadata": {},
   "outputs": [],
   "source": [
    "for i in l2:\n",
    "    if i not in l:\n",
    "        print(i)"
   ]
  },
  {
   "cell_type": "code",
   "execution_count": null,
   "metadata": {},
   "outputs": [],
   "source": [
    "dp={}\n",
    "def solve_marks(total,marks,k,checkdict,index=0,li=[]):\n",
    "    st=''\n",
    "    for i in k:\n",
    "        st+=str(k[i])\n",
    "    global dp\n",
    "    if int(total.value.split()[0])<0:\n",
    "        return 0\n",
    "    if int(total.value.split()[0])==0:\n",
    "        print(li)\n",
    "        return 1\n",
    "    if index>=len(marks):\n",
    "        return 0\n",
    "    if (int(total.value.split()[0]),index,st) in dp:\n",
    "        return dp[(int(total.value.split()[0]),index,st)]\n",
    "    if k[marks[index]]>=checkdict[marks[index]]:\n",
    "        total.right=Node(f\"{int(total.value.split()[0])} {index+1}\")\n",
    "        cost=solve_marks(total.right,marks,k,checkdict,index+1,li)\n",
    "        dp[(int(total.value.split()[0]),index,st)]=cost\n",
    "        total.value=f\"{total.value} return {cost} {index}\"\n",
    "        return cost\n",
    "    total.left=Node(f\"{int(total.value.split()[0])-marks[index]} {index}\")\n",
    "    total.right=Node(f\"{int(total.value.split()[0])} {index+1}\")\n",
    "    l,r=dict(k),dict(k)\n",
    "    l[marks[index]]+=1\n",
    "    cost=solve_marks(total.left,marks,l,checkdict,index,li+[marks[index]])+solve_marks(total.right,marks,r,checkdict,index+1,li)\n",
    "    dp[(int(total.value.split()[0]),index,st)]=cost\n",
    "    total.value=f\"{total.value} return {cost} {index}\"\n",
    "    return cost\n",
    "from binarytree import Node\n",
    "marks=[[6,1],[3,2],[2,3]]\n",
    "number=[y for x,y in marks]\n",
    "k={y:0 for y in number}\n",
    "checkdict={y:x for x,y in marks}\n",
    "total=Node('18 0')\n",
    "solve_marks(total,number,k,checkdict)"
   ]
  },
  {
   "cell_type": "code",
   "execution_count": null,
   "metadata": {},
   "outputs": [],
   "source": [
    "dp"
   ]
  },
  {
   "cell_type": "code",
   "execution_count": 8,
   "metadata": {},
   "outputs": [
    {
     "ename": "KeyboardInterrupt",
     "evalue": "",
     "output_type": "error",
     "traceback": [
      "\u001b[1;31m---------------------------------------------------------------------------\u001b[0m",
      "\u001b[1;31mKeyboardInterrupt\u001b[0m                         Traceback (most recent call last)",
      "Cell \u001b[1;32mIn[8], line 20\u001b[0m\n\u001b[0;32m     17\u001b[0m             \u001b[39mreturn\u001b[39;00m res\n\u001b[0;32m     19\u001b[0m         \u001b[39mreturn\u001b[39;00m dfs(\u001b[39m0\u001b[39m, \u001b[39m0\u001b[39m) \u001b[39m%\u001b[39m (\u001b[39m10\u001b[39m\u001b[39m*\u001b[39m\u001b[39m*\u001b[39m\u001b[39m9\u001b[39m \u001b[39m+\u001b[39m \u001b[39m7\u001b[39m)\n\u001b[1;32m---> 20\u001b[0m Solution()\u001b[39m.\u001b[39;49mwaysToReachTarget(\u001b[39m500\u001b[39;49m,types)\n",
      "Cell \u001b[1;32mIn[8], line 19\u001b[0m, in \u001b[0;36mSolution.waysToReachTarget\u001b[1;34m(self, target, types)\u001b[0m\n\u001b[0;32m     15\u001b[0m         res \u001b[39m+\u001b[39m\u001b[39m=\u001b[39m dfs(i \u001b[39m+\u001b[39m \u001b[39m1\u001b[39m, next_total)\n\u001b[0;32m     17\u001b[0m     \u001b[39mreturn\u001b[39;00m res\n\u001b[1;32m---> 19\u001b[0m \u001b[39mreturn\u001b[39;00m dfs(\u001b[39m0\u001b[39;49m, \u001b[39m0\u001b[39;49m) \u001b[39m%\u001b[39m (\u001b[39m10\u001b[39m\u001b[39m*\u001b[39m\u001b[39m*\u001b[39m\u001b[39m9\u001b[39m \u001b[39m+\u001b[39m \u001b[39m7\u001b[39m)\n",
      "Cell \u001b[1;32mIn[8], line 14\u001b[0m, in \u001b[0;36mSolution.waysToReachTarget.<locals>.dfs\u001b[1;34m(i, total)\u001b[0m\n\u001b[0;32m     12\u001b[0m     next_total \u001b[39m=\u001b[39m total \u001b[39m+\u001b[39m types[i][\u001b[39m1\u001b[39m] \u001b[39m*\u001b[39m (j \u001b[39m+\u001b[39m \u001b[39m1\u001b[39m)\n\u001b[0;32m     13\u001b[0m     \u001b[39mif\u001b[39;00m j \u001b[39m==\u001b[39m \u001b[39m0\u001b[39m:\n\u001b[1;32m---> 14\u001b[0m         res \u001b[39m+\u001b[39m\u001b[39m=\u001b[39m dfs(i \u001b[39m+\u001b[39;49m \u001b[39m1\u001b[39;49m, total) \u001b[39m# cover case for no marks\u001b[39;00m\n\u001b[0;32m     15\u001b[0m     res \u001b[39m+\u001b[39m\u001b[39m=\u001b[39m dfs(i \u001b[39m+\u001b[39m \u001b[39m1\u001b[39m, next_total)\n\u001b[0;32m     17\u001b[0m \u001b[39mreturn\u001b[39;00m res\n",
      "Cell \u001b[1;32mIn[8], line 14\u001b[0m, in \u001b[0;36mSolution.waysToReachTarget.<locals>.dfs\u001b[1;34m(i, total)\u001b[0m\n\u001b[0;32m     12\u001b[0m     next_total \u001b[39m=\u001b[39m total \u001b[39m+\u001b[39m types[i][\u001b[39m1\u001b[39m] \u001b[39m*\u001b[39m (j \u001b[39m+\u001b[39m \u001b[39m1\u001b[39m)\n\u001b[0;32m     13\u001b[0m     \u001b[39mif\u001b[39;00m j \u001b[39m==\u001b[39m \u001b[39m0\u001b[39m:\n\u001b[1;32m---> 14\u001b[0m         res \u001b[39m+\u001b[39m\u001b[39m=\u001b[39m dfs(i \u001b[39m+\u001b[39;49m \u001b[39m1\u001b[39;49m, total) \u001b[39m# cover case for no marks\u001b[39;00m\n\u001b[0;32m     15\u001b[0m     res \u001b[39m+\u001b[39m\u001b[39m=\u001b[39m dfs(i \u001b[39m+\u001b[39m \u001b[39m1\u001b[39m, next_total)\n\u001b[0;32m     17\u001b[0m \u001b[39mreturn\u001b[39;00m res\n",
      "    \u001b[1;31m[... skipping similar frames: Solution.waysToReachTarget.<locals>.dfs at line 14 (21 times)]\u001b[0m\n",
      "Cell \u001b[1;32mIn[8], line 15\u001b[0m, in \u001b[0;36mSolution.waysToReachTarget.<locals>.dfs\u001b[1;34m(i, total)\u001b[0m\n\u001b[0;32m     13\u001b[0m     \u001b[39mif\u001b[39;00m j \u001b[39m==\u001b[39m \u001b[39m0\u001b[39m:\n\u001b[0;32m     14\u001b[0m         res \u001b[39m+\u001b[39m\u001b[39m=\u001b[39m dfs(i \u001b[39m+\u001b[39m \u001b[39m1\u001b[39m, total) \u001b[39m# cover case for no marks\u001b[39;00m\n\u001b[1;32m---> 15\u001b[0m     res \u001b[39m+\u001b[39m\u001b[39m=\u001b[39m dfs(i \u001b[39m+\u001b[39;49m \u001b[39m1\u001b[39;49m, next_total)\n\u001b[0;32m     17\u001b[0m \u001b[39mreturn\u001b[39;00m res\n",
      "    \u001b[1;31m[... skipping similar frames: Solution.waysToReachTarget.<locals>.dfs at line 14 (1 times)]\u001b[0m\n",
      "Cell \u001b[1;32mIn[8], line 15\u001b[0m, in \u001b[0;36mSolution.waysToReachTarget.<locals>.dfs\u001b[1;34m(i, total)\u001b[0m\n\u001b[0;32m     13\u001b[0m     \u001b[39mif\u001b[39;00m j \u001b[39m==\u001b[39m \u001b[39m0\u001b[39m:\n\u001b[0;32m     14\u001b[0m         res \u001b[39m+\u001b[39m\u001b[39m=\u001b[39m dfs(i \u001b[39m+\u001b[39m \u001b[39m1\u001b[39m, total) \u001b[39m# cover case for no marks\u001b[39;00m\n\u001b[1;32m---> 15\u001b[0m     res \u001b[39m+\u001b[39m\u001b[39m=\u001b[39m dfs(i \u001b[39m+\u001b[39;49m \u001b[39m1\u001b[39;49m, next_total)\n\u001b[0;32m     17\u001b[0m \u001b[39mreturn\u001b[39;00m res\n",
      "    \u001b[1;31m[... skipping similar frames: Solution.waysToReachTarget.<locals>.dfs at line 14 (3 times), Solution.waysToReachTarget.<locals>.dfs at line 15 (3 times)]\u001b[0m\n",
      "Cell \u001b[1;32mIn[8], line 14\u001b[0m, in \u001b[0;36mSolution.waysToReachTarget.<locals>.dfs\u001b[1;34m(i, total)\u001b[0m\n\u001b[0;32m     12\u001b[0m     next_total \u001b[39m=\u001b[39m total \u001b[39m+\u001b[39m types[i][\u001b[39m1\u001b[39m] \u001b[39m*\u001b[39m (j \u001b[39m+\u001b[39m \u001b[39m1\u001b[39m)\n\u001b[0;32m     13\u001b[0m     \u001b[39mif\u001b[39;00m j \u001b[39m==\u001b[39m \u001b[39m0\u001b[39m:\n\u001b[1;32m---> 14\u001b[0m         res \u001b[39m+\u001b[39m\u001b[39m=\u001b[39m dfs(i \u001b[39m+\u001b[39;49m \u001b[39m1\u001b[39;49m, total) \u001b[39m# cover case for no marks\u001b[39;00m\n\u001b[0;32m     15\u001b[0m     res \u001b[39m+\u001b[39m\u001b[39m=\u001b[39m dfs(i \u001b[39m+\u001b[39m \u001b[39m1\u001b[39m, next_total)\n\u001b[0;32m     17\u001b[0m \u001b[39mreturn\u001b[39;00m res\n",
      "    \u001b[1;31m[... skipping similar frames: Solution.waysToReachTarget.<locals>.dfs at line 15 (1 times)]\u001b[0m\n",
      "Cell \u001b[1;32mIn[8], line 15\u001b[0m, in \u001b[0;36mSolution.waysToReachTarget.<locals>.dfs\u001b[1;34m(i, total)\u001b[0m\n\u001b[0;32m     13\u001b[0m     \u001b[39mif\u001b[39;00m j \u001b[39m==\u001b[39m \u001b[39m0\u001b[39m:\n\u001b[0;32m     14\u001b[0m         res \u001b[39m+\u001b[39m\u001b[39m=\u001b[39m dfs(i \u001b[39m+\u001b[39m \u001b[39m1\u001b[39m, total) \u001b[39m# cover case for no marks\u001b[39;00m\n\u001b[1;32m---> 15\u001b[0m     res \u001b[39m+\u001b[39m\u001b[39m=\u001b[39m dfs(i \u001b[39m+\u001b[39m \u001b[39m1\u001b[39m, next_total)\n\u001b[0;32m     17\u001b[0m \u001b[39mreturn\u001b[39;00m res\n",
      "\u001b[1;31mKeyboardInterrupt\u001b[0m: "
     ]
    }
   ],
   "source": [
    "class Solution:\n",
    "    def waysToReachTarget(self, target: int, types) -> int:\n",
    "        n = len(types)\n",
    "        def dfs(i, total):\n",
    "            if total == target:\n",
    "                return 1\n",
    "            if i == n or total > target:\n",
    "                return 0\n",
    "            \n",
    "            res = 0\n",
    "            for j in range(types[i][0]):\n",
    "                next_total = total + types[i][1] * (j + 1)\n",
    "                if j == 0:\n",
    "                    res += dfs(i + 1, total) # cover case for no marks\n",
    "                res += dfs(i + 1, next_total)\n",
    "                \n",
    "            return res\n",
    "        \n",
    "        return dfs(0, 0) % (10**9 + 7)\n",
    "Solution().waysToReachTarget(500,types)"
   ]
  },
  {
   "cell_type": "code",
   "execution_count": null,
   "metadata": {},
   "outputs": [],
   "source": [
    "print(total) # dont include dp"
   ]
  },
  {
   "cell_type": "code",
   "execution_count": null,
   "metadata": {},
   "outputs": [],
   "source": [
    "def solve_marks(total,marks,k,checkdict,index=0,dp={},li=[]):\n",
    "    if total<0:\n",
    "        return 0\n",
    "    if total==0:\n",
    "        print(li,k,index,checkdict[marks[index]])\n",
    "        return 1\n",
    "    if index>=len(marks):\n",
    "        return 0\n",
    "    if (total,index) in dp:\n",
    "        return dp[(total,index)]\n",
    "    if k[marks[index]]>=checkdict[marks[index]]:\n",
    "        return solve_marks(total,marks,k,checkdict,index+1,dp)\n",
    "    l,r=dict(k),dict(k)\n",
    "    l[marks[index]]+=1\n",
    "    cost=solve_marks(total-marks[index],marks,l,checkdict,index,dp,li+[marks[index]])+solve_marks(total,marks,r,checkdict,index+1,dp,li)\n",
    "    # dp[(total,index)]=cost\n",
    "    return cost\n",
    "marks=[[6,1],[3,2],[2,3]]\n",
    "number=[y for x,y in marks]\n",
    "k={y:0 for y in number}\n",
    "checkdict={y:x for x,y in marks}\n",
    "total=18\n",
    "solve_marks(total,number,k,checkdict)"
   ]
  },
  {
   "cell_type": "code",
   "execution_count": null,
   "metadata": {},
   "outputs": [],
   "source": [
    "marks=[[6,1],[3,2],[2,3]]\n",
    "def count(total,index=0,k=[]):\n",
    "    if total == 0:\n",
    "        return 1\n",
    "    if index>=len(marks):\n",
    "        return 0\n",
    "    if total < 0:\n",
    "        return 0\n",
    "    res=0\n",
    "    for i in range(marks[index][0]+1):\n",
    "        res+=count(total-marks[index][1]*(i),index+1)\n",
    "    return res\n",
    "count(6)"
   ]
  },
  {
   "cell_type": "code",
   "execution_count": 19,
   "metadata": {},
   "outputs": [
    {
     "name": "stdout",
     "output_type": "stream",
     "text": [
      "21168881007524974757\n"
     ]
    }
   ],
   "source": [
    "types=[[6,1],[49,2],[33,3],[26,4],[28,5],[45,6],[4,7],[23,8],[46,9],[39,10],[12,11],[28,12],[37,13],[18,14],[10,15],[27,16],[26,17],[10,18],[34,19],[11,20],[35,21],[5,22],[47,23],[19,24],[15,25],[27,26],[50,27],[3,28],[24,29],[18,30],[49,31],[32,32],[18,33],[5,34],[34,35]]\n",
    "n=len(types)\n",
    "target=500\n",
    "dp={}\n",
    "def dfs(i, total):\n",
    "    if total == target:\n",
    "        return 1\n",
    "    if i == n or total > target:\n",
    "        return 0\n",
    "    if (i,total) in dp:\n",
    "        return dp[(i,total)]\n",
    "    res = 0\n",
    "    for j in range(types[i][0]):\n",
    "        next_total = total + types[i][1] * (j + 1)\n",
    "        if j == 0:\n",
    "            res += dfs(i + 1, total) \n",
    "        res += dfs(i + 1, next_total)\n",
    "    dp[(i,total)]=res\n",
    "    return res\n",
    "print(dfs(0,0))"
   ]
  },
  {
   "cell_type": "code",
   "execution_count": 11,
   "metadata": {},
   "outputs": [],
   "source": [
    "piles=[[1,100,3,50,100,20],[7,8,9,200,20,50]]\n",
    "k=6\n",
    "se=set()\n",
    "from binarytree import Node\n",
    "def tree(count,index1=0,index2=0,level=0,value=0):\n",
    "    if count==None:\n",
    "        return 0\n",
    "    if level==k:\n",
    "        return value\n",
    "    count.right=Node(piles[1][index2])\n",
    "    if index1 not in se:\n",
    "        count.left=Node(piles[0][index1])\n",
    "    else:\n",
    "        count.left=None\n",
    "        return tree(count.right,index1,index2+1,level+1,value+count.right.value)\n",
    "    # se.add(index1)\n",
    "    return max(tree(count.left,index1+1,index2,level+1,value+count.left.value),tree(count.right,index1,index2+1,level+1,value+count.right.value))"
   ]
  },
  {
   "cell_type": "code",
   "execution_count": 12,
   "metadata": {},
   "outputs": [
    {
     "data": {
      "text/plain": [
       "325"
      ]
     },
     "execution_count": 12,
     "metadata": {},
     "output_type": "execute_result"
    }
   ],
   "source": [
    "root=Node(0)\n",
    "tree(root)"
   ]
  },
  {
   "cell_type": "code",
   "execution_count": 10,
   "metadata": {},
   "outputs": [
    {
     "name": "stdout",
     "output_type": "stream",
     "text": [
      "\n",
      "                                        _____________0\n",
      "                                       /              \\\n",
      "                           ___________1                7\n",
      "                          /            \\                \\\n",
      "                  ______100             7                8\n",
      "                 /         \\             \\                \\\n",
      "           _____3           7             8                9_\n",
      "          /      \\           \\             \\                 \\\n",
      "      ___50       7           8             9_               200\n",
      "     /     \\       \\           \\              \\                 \\\n",
      "  _100      7       8           9_            200                20\n",
      " /    \\      \\       \\            \\              \\                 \\\n",
      "20     7      8       9           200             20                50\n",
      "\n"
     ]
    }
   ],
   "source": [
    "print(root)"
   ]
  },
  {
   "cell_type": "code",
   "execution_count": 13,
   "metadata": {},
   "outputs": [
    {
     "name": "stdout",
     "output_type": "stream",
     "text": [
      "\n",
      "                                                                                   _____________________________________________________________________________________0_____________________________________________________________________________________\n",
      "                                                                                  /                                                                                                                                                                           \\\n",
      "                                           ______________________________________1_______________________________________                                                                                          ____________________________________________7____________________________________________\n",
      "                                          /                                                                              \\                                                                                        /                                                                                         \\\n",
      "                      __________________100__________________                                           __________________7___________________                                                 __________________1___________________                                                 _______________________8_______________________\n",
      "                     /                                       \\                                         /                                      \\                                               /                                      \\                                               /                                               \\\n",
      "           _________3_________                         _______7_______                        _______100_______                       _________8__________                           _______100_______                       _________8__________                          _________1__________                            ___________9__________\n",
      "          /                   \\                       /               \\                      /                 \\                     /                    \\                         /                 \\                     /                    \\                        /                    \\                          /                      \\\n",
      "      ___50____             ___7___               ___3___            __8__               ___3___              __8__              __100__              _____9_____               ___3___              __8__              __100__              _____9_____              __100__              _____9_____              _____1_____               ___200__\n",
      "     /         \\           /       \\             /       \\          /     \\             /       \\            /     \\            /       \\            /           \\             /       \\            /     \\            /       \\            /           \\            /       \\            /           \\            /           \\             /        \\\n",
      "  _100         _7        _50       _8          _50       _8       _3       9_         _50       _8         _3       9_        _3         9_        100_         _200         _50       _8         _3       9_        _3         9_        100_         _200        _3         9_        100_         _200        100_         _200         _1          20\n",
      " /    \\       /  \\      /   \\     /  \\        /   \\     /  \\     /  \\     /  \\       /   \\     /  \\       /  \\     /  \\      /  \\       /  \\      /    \\       /    \\       /   \\     /  \\       /  \\     /  \\      /  \\       /  \\      /    \\       /    \\      /  \\       /  \\      /    \\       /    \\      /    \\       /    \\       /  \\        /  \\\n",
      "20     7    100   8   100    8   50   9     100    8   50   9   50   9   3   200   100    8   50   9     50   9   3   200   50   9     3   200   3     200   100     20   100    8   50   9     50   9   3   200   50   9     3   200   3     200   100     20   50   9     3   200   3     200   100     20   3     200   100     20   100   20     1    50\n",
      "\n"
     ]
    }
   ],
   "source": [
    "print(root)"
   ]
  },
  {
   "cell_type": "code",
   "execution_count": 74,
   "metadata": {},
   "outputs": [],
   "source": [
    "su=0\n",
    "count=0\n",
    "for i in range(500000):\n",
    "    if i%2!=0:\n",
    "        su+=i\n",
    "        count+=1\n",
    "    if count>2000:\n",
    "        break\n"
   ]
  },
  {
   "cell_type": "code",
   "execution_count": 122,
   "metadata": {},
   "outputs": [
    {
     "data": {
      "text/plain": [
       "254"
      ]
     },
     "execution_count": 122,
     "metadata": {},
     "output_type": "execute_result"
    }
   ],
   "source": [
    "piles=[[1,100,3,50,100,20],[7,8,9,200,20,50]]\n",
    "k=5\n",
    "se=set()\n",
    "from binarytree import Node\n",
    "def tree(count,index1=0,index2=0,level=0,value=0):\n",
    "    if count==None:\n",
    "        return 0\n",
    "    if level==k:\n",
    "        return value\n",
    "    right=piles[1][index2]\n",
    "    if index1 not in se:\n",
    "        left=piles[0][index1]\n",
    "    else:\n",
    "        left=None\n",
    "        return tree(right,index1,index2+1,level+1,value+right)\n",
    "    se.add(index1)\n",
    "    return max(tree(left,index1+1,index2,level+1,value+left),tree(right,index1,index2+1,level+1,value+right))\n",
    "tree(0)"
   ]
  },
  {
   "cell_type": "code",
   "execution_count": 1,
   "metadata": {},
   "outputs": [],
   "source": [
    "%matplotlib inline"
   ]
  },
  {
   "cell_type": "code",
   "execution_count": 4,
   "metadata": {},
   "outputs": [
    {
     "name": "stderr",
     "output_type": "stream",
     "text": [
      "\n",
      "0: 384x640 10 cars, 1 truck, 388.3ms\n",
      "Speed: 5.3ms preprocess, 388.3ms inference, 0.0ms postprocess per image at shape (1, 3, 640, 640)\n",
      "\n"
     ]
    },
    {
     "name": "stdout",
     "output_type": "stream",
     "text": [
      "[1159, 365, 1279, 439, 0, 2]\n",
      "[1024, 367, 1163, 426, 0, 2]\n",
      "[407, 352, 502, 416, 0, 2]\n",
      "[168, 338, 278, 412, 0, 2]\n",
      "[933, 349, 1056, 417, 0, 2]\n",
      "[725, 352, 792, 386, 0, 2]\n",
      "[822, 354, 874, 395, 0, 2]\n",
      "[168, 337, 279, 417, 0, 7]\n",
      "[316, 357, 346, 378, 0, 2]\n",
      "[285, 359, 305, 379, 0, 2]\n",
      "[263, 356, 300, 379, 0, 2]\n"
     ]
    },
    {
     "name": "stderr",
     "output_type": "stream",
     "text": [
      "0: 384x640 10 cars, 1 truck, 413.7ms\n",
      "Speed: 8.0ms preprocess, 413.7ms inference, 8.2ms postprocess per image at shape (1, 3, 640, 640)\n",
      "\n"
     ]
    },
    {
     "name": "stdout",
     "output_type": "stream",
     "text": [
      "[1159, 365, 1279, 439, 0, 2]\n",
      "[1024, 367, 1163, 426, 0, 2]\n",
      "[408, 351, 505, 416, 0, 2]\n",
      "[933, 349, 1056, 417, 0, 2]\n",
      "[168, 338, 278, 412, 0, 2]\n",
      "[725, 352, 792, 386, 0, 2]\n",
      "[168, 337, 278, 417, 0, 7]\n",
      "[822, 354, 874, 395, 0, 2]\n",
      "[316, 357, 348, 378, 0, 2]\n",
      "[284, 359, 305, 379, 0, 2]\n",
      "[337, 358, 358, 378, 0, 2]\n"
     ]
    },
    {
     "name": "stderr",
     "output_type": "stream",
     "text": [
      "0: 384x640 10 cars, 1 truck, 518.4ms\n",
      "Speed: 8.0ms preprocess, 518.4ms inference, 4.8ms postprocess per image at shape (1, 3, 640, 640)\n",
      "\n"
     ]
    },
    {
     "name": "stdout",
     "output_type": "stream",
     "text": [
      "[1160, 365, 1279, 439, 0, 2]\n",
      "[409, 352, 507, 417, 0, 2]\n",
      "[1024, 367, 1163, 427, 0, 2]\n",
      "[933, 349, 1056, 417, 0, 2]\n",
      "[168, 338, 278, 412, 0, 2]\n",
      "[726, 353, 792, 386, 0, 2]\n",
      "[168, 337, 278, 417, 0, 7]\n",
      "[822, 354, 874, 395, 0, 2]\n",
      "[317, 357, 348, 378, 0, 2]\n",
      "[282, 358, 305, 379, 0, 2]\n",
      "[335, 357, 358, 378, 0, 2]\n"
     ]
    },
    {
     "name": "stderr",
     "output_type": "stream",
     "text": [
      "0: 384x640 11 cars, 1 truck, 395.6ms\n",
      "Speed: 1.8ms preprocess, 395.6ms inference, 0.0ms postprocess per image at shape (1, 3, 640, 640)\n",
      "\n"
     ]
    },
    {
     "name": "stdout",
     "output_type": "stream",
     "text": [
      "[1160, 365, 1279, 439, 0, 2]\n",
      "[1024, 367, 1163, 427, 0, 2]\n",
      "[410, 351, 509, 418, 0, 2]\n",
      "[933, 349, 1056, 417, 0, 2]\n",
      "[168, 338, 278, 412, 0, 2]\n",
      "[726, 353, 792, 386, 0, 2]\n",
      "[168, 337, 278, 417, 0, 7]\n",
      "[822, 354, 874, 395, 0, 2]\n",
      "[317, 357, 349, 378, 0, 2]\n",
      "[275, 358, 303, 379, 0, 2]\n",
      "[335, 357, 358, 378, 0, 2]\n",
      "[267, 357, 300, 379, 0, 2]\n"
     ]
    },
    {
     "name": "stderr",
     "output_type": "stream",
     "text": [
      "0: 384x640 11 cars, 1 truck, 415.8ms\n",
      "Speed: 3.4ms preprocess, 415.8ms inference, 0.0ms postprocess per image at shape (1, 3, 640, 640)\n",
      "\n"
     ]
    },
    {
     "name": "stdout",
     "output_type": "stream",
     "text": [
      "[1160, 365, 1279, 439, 0, 2]\n",
      "[1025, 367, 1163, 427, 0, 2]\n",
      "[413, 351, 512, 418, 0, 2]\n",
      "[933, 349, 1056, 417, 0, 2]\n",
      "[168, 338, 278, 413, 0, 2]\n",
      "[727, 353, 792, 386, 0, 2]\n",
      "[822, 354, 874, 395, 0, 2]\n",
      "[317, 357, 349, 378, 0, 2]\n",
      "[169, 337, 279, 417, 0, 7]\n",
      "[274, 358, 303, 379, 0, 2]\n",
      "[331, 356, 357, 378, 0, 2]\n",
      "[267, 356, 300, 379, 0, 2]\n"
     ]
    },
    {
     "name": "stderr",
     "output_type": "stream",
     "text": [
      "0: 384x640 10 cars, 1 truck, 368.2ms\n",
      "Speed: 2.3ms preprocess, 368.2ms inference, 3.9ms postprocess per image at shape (1, 3, 640, 640)\n",
      "\n"
     ]
    },
    {
     "name": "stdout",
     "output_type": "stream",
     "text": [
      "[1159, 365, 1279, 439, 0, 2]\n",
      "[415, 351, 514, 419, 0, 2]\n",
      "[1025, 367, 1163, 426, 0, 2]\n",
      "[933, 349, 1056, 417, 0, 2]\n",
      "[169, 338, 278, 412, 0, 2]\n",
      "[727, 353, 792, 387, 0, 2]\n",
      "[318, 357, 349, 379, 0, 2]\n",
      "[822, 354, 874, 395, 0, 2]\n",
      "[325, 356, 357, 379, 0, 2]\n",
      "[274, 359, 303, 379, 0, 2]\n",
      "[171, 337, 279, 416, 0, 7]\n"
     ]
    },
    {
     "name": "stderr",
     "output_type": "stream",
     "text": [
      "0: 384x640 10 cars, 1 truck, 371.6ms\n",
      "Speed: 2.0ms preprocess, 371.6ms inference, 5.0ms postprocess per image at shape (1, 3, 640, 640)\n",
      "\n"
     ]
    },
    {
     "name": "stdout",
     "output_type": "stream",
     "text": [
      "[1159, 365, 1279, 439, 0, 2]\n",
      "[416, 351, 517, 420, 0, 2]\n",
      "[1024, 367, 1163, 426, 0, 2]\n",
      "[933, 349, 1056, 417, 0, 2]\n",
      "[170, 338, 278, 412, 0, 2]\n",
      "[726, 352, 792, 387, 0, 2]\n",
      "[318, 356, 351, 379, 0, 2]\n",
      "[822, 354, 872, 395, 0, 2]\n",
      "[169, 337, 278, 416, 0, 7]\n",
      "[274, 359, 303, 379, 0, 2]\n",
      "[267, 357, 300, 379, 0, 2]\n"
     ]
    },
    {
     "name": "stderr",
     "output_type": "stream",
     "text": [
      "0: 384x640 10 cars, 1 truck, 366.4ms\n",
      "Speed: 3.9ms preprocess, 366.4ms inference, 0.0ms postprocess per image at shape (1, 3, 640, 640)\n",
      "\n"
     ]
    },
    {
     "name": "stdout",
     "output_type": "stream",
     "text": [
      "[1159, 365, 1279, 439, 0, 2]\n",
      "[417, 351, 520, 419, 0, 2]\n",
      "[1024, 367, 1163, 426, 0, 2]\n",
      "[933, 349, 1056, 417, 0, 2]\n",
      "[170, 338, 278, 413, 0, 2]\n",
      "[726, 352, 792, 387, 0, 2]\n",
      "[319, 356, 351, 379, 0, 2]\n",
      "[822, 354, 872, 395, 0, 2]\n",
      "[273, 359, 303, 379, 0, 2]\n",
      "[176, 336, 279, 415, 0, 7]\n",
      "[267, 357, 300, 379, 0, 2]\n"
     ]
    },
    {
     "name": "stderr",
     "output_type": "stream",
     "text": [
      "0: 384x640 9 cars, 1 truck, 387.1ms\n",
      "Speed: 4.4ms preprocess, 387.1ms inference, 3.2ms postprocess per image at shape (1, 3, 640, 640)\n",
      "\n"
     ]
    },
    {
     "name": "stdout",
     "output_type": "stream",
     "text": [
      "[1159, 366, 1279, 439, 0, 2]\n",
      "[418, 351, 523, 420, 0, 2]\n",
      "[1024, 367, 1163, 426, 0, 2]\n",
      "[933, 349, 1056, 417, 0, 2]\n",
      "[171, 338, 278, 413, 0, 2]\n",
      "[726, 352, 792, 387, 0, 2]\n",
      "[822, 354, 873, 395, 0, 2]\n",
      "[322, 355, 357, 379, 0, 2]\n",
      "[176, 336, 279, 415, 0, 7]\n",
      "[273, 359, 303, 379, 0, 2]\n"
     ]
    },
    {
     "name": "stderr",
     "output_type": "stream",
     "text": [
      "0: 384x640 9 cars, 1 truck, 384.2ms\n",
      "Speed: 3.5ms preprocess, 384.2ms inference, 4.2ms postprocess per image at shape (1, 3, 640, 640)\n",
      "\n"
     ]
    },
    {
     "name": "stdout",
     "output_type": "stream",
     "text": [
      "[1159, 366, 1279, 439, 0, 2]\n",
      "[420, 351, 526, 421, 0, 2]\n",
      "[1025, 367, 1163, 426, 0, 2]\n",
      "[932, 349, 1056, 417, 0, 2]\n",
      "[172, 338, 278, 412, 0, 2]\n",
      "[726, 352, 792, 387, 0, 2]\n",
      "[822, 354, 872, 395, 0, 2]\n",
      "[317, 353, 355, 379, 0, 2]\n",
      "[273, 359, 303, 379, 0, 2]\n",
      "[179, 337, 279, 415, 0, 7]\n"
     ]
    },
    {
     "ename": "KeyboardInterrupt",
     "evalue": "",
     "output_type": "error",
     "traceback": [
      "\u001b[1;31m---------------------------------------------------------------------------\u001b[0m",
      "\u001b[1;31mKeyboardInterrupt\u001b[0m                         Traceback (most recent call last)",
      "Cell \u001b[1;32mIn[4], line 16\u001b[0m\n\u001b[0;32m     13\u001b[0m \u001b[39mfor\u001b[39;00m i \u001b[39min\u001b[39;00m \u001b[39mrange\u001b[39m(\u001b[39m100\u001b[39m):\n\u001b[0;32m     14\u001b[0m     \u001b[39m# Capture the frame from the video\u001b[39;00m\n\u001b[0;32m     15\u001b[0m     ret, frame \u001b[39m=\u001b[39m cap\u001b[39m.\u001b[39mread()\n\u001b[1;32m---> 16\u001b[0m     res\u001b[39m=\u001b[39myolo(frame)\n\u001b[0;32m     17\u001b[0m     \u001b[39mfor\u001b[39;00m i \u001b[39min\u001b[39;00m res[\u001b[39m0\u001b[39m]\u001b[39m.\u001b[39mboxes\u001b[39m.\u001b[39mdata:\n\u001b[0;32m     18\u001b[0m         \u001b[39mprint\u001b[39m(\u001b[39mlist\u001b[39m(\u001b[39mmap\u001b[39m(\u001b[39mint\u001b[39m,i)))\n",
      "File \u001b[1;32mc:\\Users\\Msk basha\\AppData\\Local\\Programs\\Python\\Python39\\lib\\site-packages\\ultralytics\\yolo\\engine\\model.py:99\u001b[0m, in \u001b[0;36mYOLO.__call__\u001b[1;34m(self, source, stream, **kwargs)\u001b[0m\n\u001b[0;32m     98\u001b[0m \u001b[39mdef\u001b[39;00m \u001b[39m__call__\u001b[39m(\u001b[39mself\u001b[39m, source\u001b[39m=\u001b[39m\u001b[39mNone\u001b[39;00m, stream\u001b[39m=\u001b[39m\u001b[39mFalse\u001b[39;00m, \u001b[39m*\u001b[39m\u001b[39m*\u001b[39mkwargs):\n\u001b[1;32m---> 99\u001b[0m     \u001b[39mreturn\u001b[39;00m \u001b[39mself\u001b[39m\u001b[39m.\u001b[39mpredict(source, stream, \u001b[39m*\u001b[39m\u001b[39m*\u001b[39mkwargs)\n",
      "File \u001b[1;32mc:\\Users\\Msk basha\\AppData\\Local\\Programs\\Python\\Python39\\lib\\site-packages\\torch\\autograd\\grad_mode.py:27\u001b[0m, in \u001b[0;36m_DecoratorContextManager.__call__.<locals>.decorate_context\u001b[1;34m(*args, **kwargs)\u001b[0m\n\u001b[0;32m     24\u001b[0m \u001b[39m@functools\u001b[39m\u001b[39m.\u001b[39mwraps(func)\n\u001b[0;32m     25\u001b[0m \u001b[39mdef\u001b[39;00m \u001b[39mdecorate_context\u001b[39m(\u001b[39m*\u001b[39margs, \u001b[39m*\u001b[39m\u001b[39m*\u001b[39mkwargs):\n\u001b[0;32m     26\u001b[0m     \u001b[39mwith\u001b[39;00m \u001b[39mself\u001b[39m\u001b[39m.\u001b[39mclone():\n\u001b[1;32m---> 27\u001b[0m         \u001b[39mreturn\u001b[39;00m func(\u001b[39m*\u001b[39margs, \u001b[39m*\u001b[39m\u001b[39m*\u001b[39mkwargs)\n",
      "File \u001b[1;32mc:\\Users\\Msk basha\\AppData\\Local\\Programs\\Python\\Python39\\lib\\site-packages\\ultralytics\\yolo\\engine\\model.py:221\u001b[0m, in \u001b[0;36mYOLO.predict\u001b[1;34m(self, source, stream, **kwargs)\u001b[0m\n\u001b[0;32m    219\u001b[0m \u001b[39melse\u001b[39;00m:  \u001b[39m# only update args if predictor is already setup\u001b[39;00m\n\u001b[0;32m    220\u001b[0m     \u001b[39mself\u001b[39m\u001b[39m.\u001b[39mpredictor\u001b[39m.\u001b[39margs \u001b[39m=\u001b[39m get_cfg(\u001b[39mself\u001b[39m\u001b[39m.\u001b[39mpredictor\u001b[39m.\u001b[39margs, overrides)\n\u001b[1;32m--> 221\u001b[0m \u001b[39mreturn\u001b[39;00m \u001b[39mself\u001b[39m\u001b[39m.\u001b[39mpredictor\u001b[39m.\u001b[39mpredict_cli(source\u001b[39m=\u001b[39msource) \u001b[39mif\u001b[39;00m is_cli \u001b[39melse\u001b[39;00m \u001b[39mself\u001b[39;49m\u001b[39m.\u001b[39;49mpredictor(source\u001b[39m=\u001b[39;49msource, stream\u001b[39m=\u001b[39;49mstream)\n",
      "File \u001b[1;32mc:\\Users\\Msk basha\\AppData\\Local\\Programs\\Python\\Python39\\lib\\site-packages\\ultralytics\\yolo\\engine\\predictor.py:114\u001b[0m, in \u001b[0;36mBasePredictor.__call__\u001b[1;34m(self, source, model, stream)\u001b[0m\n\u001b[0;32m    112\u001b[0m     \u001b[39mreturn\u001b[39;00m \u001b[39mself\u001b[39m\u001b[39m.\u001b[39mstream_inference(source, model)\n\u001b[0;32m    113\u001b[0m \u001b[39melse\u001b[39;00m:\n\u001b[1;32m--> 114\u001b[0m     \u001b[39mreturn\u001b[39;00m \u001b[39mlist\u001b[39;49m(\u001b[39mself\u001b[39;49m\u001b[39m.\u001b[39;49mstream_inference(source, model))\n",
      "File \u001b[1;32mc:\\Users\\Msk basha\\AppData\\Local\\Programs\\Python\\Python39\\lib\\site-packages\\torch\\autograd\\grad_mode.py:43\u001b[0m, in \u001b[0;36m_DecoratorContextManager._wrap_generator.<locals>.generator_context\u001b[1;34m(*args, **kwargs)\u001b[0m\n\u001b[0;32m     40\u001b[0m \u001b[39mtry\u001b[39;00m:\n\u001b[0;32m     41\u001b[0m     \u001b[39m# Issuing `None` to a generator fires it up\u001b[39;00m\n\u001b[0;32m     42\u001b[0m     \u001b[39mwith\u001b[39;00m \u001b[39mself\u001b[39m\u001b[39m.\u001b[39mclone():\n\u001b[1;32m---> 43\u001b[0m         response \u001b[39m=\u001b[39m gen\u001b[39m.\u001b[39;49msend(\u001b[39mNone\u001b[39;49;00m)\n\u001b[0;32m     45\u001b[0m     \u001b[39mwhile\u001b[39;00m \u001b[39mTrue\u001b[39;00m:\n\u001b[0;32m     46\u001b[0m         \u001b[39mtry\u001b[39;00m:\n\u001b[0;32m     47\u001b[0m             \u001b[39m# Forward the response to our caller and get its next request\u001b[39;00m\n",
      "File \u001b[1;32mc:\\Users\\Msk basha\\AppData\\Local\\Programs\\Python\\Python39\\lib\\site-packages\\ultralytics\\yolo\\engine\\predictor.py:172\u001b[0m, in \u001b[0;36mBasePredictor.stream_inference\u001b[1;34m(self, source, model)\u001b[0m\n\u001b[0;32m    170\u001b[0m \u001b[39m# inference\u001b[39;00m\n\u001b[0;32m    171\u001b[0m \u001b[39mwith\u001b[39;00m \u001b[39mself\u001b[39m\u001b[39m.\u001b[39mdt[\u001b[39m1\u001b[39m]:\n\u001b[1;32m--> 172\u001b[0m     preds \u001b[39m=\u001b[39m \u001b[39mself\u001b[39;49m\u001b[39m.\u001b[39;49mmodel(im, augment\u001b[39m=\u001b[39;49m\u001b[39mself\u001b[39;49m\u001b[39m.\u001b[39;49margs\u001b[39m.\u001b[39;49maugment, visualize\u001b[39m=\u001b[39;49mvisualize)\n\u001b[0;32m    174\u001b[0m \u001b[39m# postprocess\u001b[39;00m\n\u001b[0;32m    175\u001b[0m \u001b[39mwith\u001b[39;00m \u001b[39mself\u001b[39m\u001b[39m.\u001b[39mdt[\u001b[39m2\u001b[39m]:\n",
      "File \u001b[1;32mc:\\Users\\Msk basha\\AppData\\Local\\Programs\\Python\\Python39\\lib\\site-packages\\torch\\nn\\modules\\module.py:1194\u001b[0m, in \u001b[0;36mModule._call_impl\u001b[1;34m(self, *input, **kwargs)\u001b[0m\n\u001b[0;32m   1190\u001b[0m \u001b[39m# If we don't have any hooks, we want to skip the rest of the logic in\u001b[39;00m\n\u001b[0;32m   1191\u001b[0m \u001b[39m# this function, and just call forward.\u001b[39;00m\n\u001b[0;32m   1192\u001b[0m \u001b[39mif\u001b[39;00m \u001b[39mnot\u001b[39;00m (\u001b[39mself\u001b[39m\u001b[39m.\u001b[39m_backward_hooks \u001b[39mor\u001b[39;00m \u001b[39mself\u001b[39m\u001b[39m.\u001b[39m_forward_hooks \u001b[39mor\u001b[39;00m \u001b[39mself\u001b[39m\u001b[39m.\u001b[39m_forward_pre_hooks \u001b[39mor\u001b[39;00m _global_backward_hooks\n\u001b[0;32m   1193\u001b[0m         \u001b[39mor\u001b[39;00m _global_forward_hooks \u001b[39mor\u001b[39;00m _global_forward_pre_hooks):\n\u001b[1;32m-> 1194\u001b[0m     \u001b[39mreturn\u001b[39;00m forward_call(\u001b[39m*\u001b[39m\u001b[39minput\u001b[39m, \u001b[39m*\u001b[39m\u001b[39m*\u001b[39mkwargs)\n\u001b[0;32m   1195\u001b[0m \u001b[39m# Do not call functions when jit is used\u001b[39;00m\n\u001b[0;32m   1196\u001b[0m full_backward_hooks, non_full_backward_hooks \u001b[39m=\u001b[39m [], []\n",
      "File \u001b[1;32mc:\\Users\\Msk basha\\AppData\\Local\\Programs\\Python\\Python39\\lib\\site-packages\\ultralytics\\nn\\autobackend.py:297\u001b[0m, in \u001b[0;36mAutoBackend.forward\u001b[1;34m(self, im, augment, visualize)\u001b[0m\n\u001b[0;32m    294\u001b[0m     im \u001b[39m=\u001b[39m im\u001b[39m.\u001b[39mpermute(\u001b[39m0\u001b[39m, \u001b[39m2\u001b[39m, \u001b[39m3\u001b[39m, \u001b[39m1\u001b[39m)  \u001b[39m# torch BCHW to numpy BHWC shape(1,320,192,3)\u001b[39;00m\n\u001b[0;32m    296\u001b[0m \u001b[39mif\u001b[39;00m \u001b[39mself\u001b[39m\u001b[39m.\u001b[39mpt \u001b[39mor\u001b[39;00m \u001b[39mself\u001b[39m\u001b[39m.\u001b[39mnn_module:  \u001b[39m# PyTorch\u001b[39;00m\n\u001b[1;32m--> 297\u001b[0m     y \u001b[39m=\u001b[39m \u001b[39mself\u001b[39m\u001b[39m.\u001b[39mmodel(im, augment\u001b[39m=\u001b[39maugment, visualize\u001b[39m=\u001b[39mvisualize) \u001b[39mif\u001b[39;00m augment \u001b[39mor\u001b[39;00m visualize \u001b[39melse\u001b[39;00m \u001b[39mself\u001b[39;49m\u001b[39m.\u001b[39;49mmodel(im)\n\u001b[0;32m    298\u001b[0m \u001b[39melif\u001b[39;00m \u001b[39mself\u001b[39m\u001b[39m.\u001b[39mjit:  \u001b[39m# TorchScript\u001b[39;00m\n\u001b[0;32m    299\u001b[0m     y \u001b[39m=\u001b[39m \u001b[39mself\u001b[39m\u001b[39m.\u001b[39mmodel(im)\n",
      "File \u001b[1;32mc:\\Users\\Msk basha\\AppData\\Local\\Programs\\Python\\Python39\\lib\\site-packages\\torch\\nn\\modules\\module.py:1194\u001b[0m, in \u001b[0;36mModule._call_impl\u001b[1;34m(self, *input, **kwargs)\u001b[0m\n\u001b[0;32m   1190\u001b[0m \u001b[39m# If we don't have any hooks, we want to skip the rest of the logic in\u001b[39;00m\n\u001b[0;32m   1191\u001b[0m \u001b[39m# this function, and just call forward.\u001b[39;00m\n\u001b[0;32m   1192\u001b[0m \u001b[39mif\u001b[39;00m \u001b[39mnot\u001b[39;00m (\u001b[39mself\u001b[39m\u001b[39m.\u001b[39m_backward_hooks \u001b[39mor\u001b[39;00m \u001b[39mself\u001b[39m\u001b[39m.\u001b[39m_forward_hooks \u001b[39mor\u001b[39;00m \u001b[39mself\u001b[39m\u001b[39m.\u001b[39m_forward_pre_hooks \u001b[39mor\u001b[39;00m _global_backward_hooks\n\u001b[0;32m   1193\u001b[0m         \u001b[39mor\u001b[39;00m _global_forward_hooks \u001b[39mor\u001b[39;00m _global_forward_pre_hooks):\n\u001b[1;32m-> 1194\u001b[0m     \u001b[39mreturn\u001b[39;00m forward_call(\u001b[39m*\u001b[39m\u001b[39minput\u001b[39m, \u001b[39m*\u001b[39m\u001b[39m*\u001b[39mkwargs)\n\u001b[0;32m   1195\u001b[0m \u001b[39m# Do not call functions when jit is used\u001b[39;00m\n\u001b[0;32m   1196\u001b[0m full_backward_hooks, non_full_backward_hooks \u001b[39m=\u001b[39m [], []\n",
      "File \u001b[1;32mc:\\Users\\Msk basha\\AppData\\Local\\Programs\\Python\\Python39\\lib\\site-packages\\ultralytics\\nn\\tasks.py:197\u001b[0m, in \u001b[0;36mDetectionModel.forward\u001b[1;34m(self, x, augment, profile, visualize)\u001b[0m\n\u001b[0;32m    195\u001b[0m \u001b[39mif\u001b[39;00m augment:\n\u001b[0;32m    196\u001b[0m     \u001b[39mreturn\u001b[39;00m \u001b[39mself\u001b[39m\u001b[39m.\u001b[39m_forward_augment(x)  \u001b[39m# augmented inference, None\u001b[39;00m\n\u001b[1;32m--> 197\u001b[0m \u001b[39mreturn\u001b[39;00m \u001b[39mself\u001b[39;49m\u001b[39m.\u001b[39;49m_forward_once(x, profile, visualize)\n",
      "File \u001b[1;32mc:\\Users\\Msk basha\\AppData\\Local\\Programs\\Python\\Python39\\lib\\site-packages\\ultralytics\\nn\\tasks.py:56\u001b[0m, in \u001b[0;36mBaseModel._forward_once\u001b[1;34m(self, x, profile, visualize)\u001b[0m\n\u001b[0;32m     54\u001b[0m \u001b[39mif\u001b[39;00m profile:\n\u001b[0;32m     55\u001b[0m     \u001b[39mself\u001b[39m\u001b[39m.\u001b[39m_profile_one_layer(m, x, dt)\n\u001b[1;32m---> 56\u001b[0m x \u001b[39m=\u001b[39m m(x)  \u001b[39m# run\u001b[39;00m\n\u001b[0;32m     57\u001b[0m y\u001b[39m.\u001b[39mappend(x \u001b[39mif\u001b[39;00m m\u001b[39m.\u001b[39mi \u001b[39min\u001b[39;00m \u001b[39mself\u001b[39m\u001b[39m.\u001b[39msave \u001b[39melse\u001b[39;00m \u001b[39mNone\u001b[39;00m)  \u001b[39m# save output\u001b[39;00m\n\u001b[0;32m     58\u001b[0m \u001b[39mif\u001b[39;00m visualize:\n",
      "File \u001b[1;32mc:\\Users\\Msk basha\\AppData\\Local\\Programs\\Python\\Python39\\lib\\site-packages\\torch\\nn\\modules\\module.py:1194\u001b[0m, in \u001b[0;36mModule._call_impl\u001b[1;34m(self, *input, **kwargs)\u001b[0m\n\u001b[0;32m   1190\u001b[0m \u001b[39m# If we don't have any hooks, we want to skip the rest of the logic in\u001b[39;00m\n\u001b[0;32m   1191\u001b[0m \u001b[39m# this function, and just call forward.\u001b[39;00m\n\u001b[0;32m   1192\u001b[0m \u001b[39mif\u001b[39;00m \u001b[39mnot\u001b[39;00m (\u001b[39mself\u001b[39m\u001b[39m.\u001b[39m_backward_hooks \u001b[39mor\u001b[39;00m \u001b[39mself\u001b[39m\u001b[39m.\u001b[39m_forward_hooks \u001b[39mor\u001b[39;00m \u001b[39mself\u001b[39m\u001b[39m.\u001b[39m_forward_pre_hooks \u001b[39mor\u001b[39;00m _global_backward_hooks\n\u001b[0;32m   1193\u001b[0m         \u001b[39mor\u001b[39;00m _global_forward_hooks \u001b[39mor\u001b[39;00m _global_forward_pre_hooks):\n\u001b[1;32m-> 1194\u001b[0m     \u001b[39mreturn\u001b[39;00m forward_call(\u001b[39m*\u001b[39m\u001b[39minput\u001b[39m, \u001b[39m*\u001b[39m\u001b[39m*\u001b[39mkwargs)\n\u001b[0;32m   1195\u001b[0m \u001b[39m# Do not call functions when jit is used\u001b[39;00m\n\u001b[0;32m   1196\u001b[0m full_backward_hooks, non_full_backward_hooks \u001b[39m=\u001b[39m [], []\n",
      "File \u001b[1;32mc:\\Users\\Msk basha\\AppData\\Local\\Programs\\Python\\Python39\\lib\\site-packages\\ultralytics\\nn\\modules.py:406\u001b[0m, in \u001b[0;36mDetect.forward\u001b[1;34m(self, x)\u001b[0m\n\u001b[0;32m    404\u001b[0m shape \u001b[39m=\u001b[39m x[\u001b[39m0\u001b[39m]\u001b[39m.\u001b[39mshape  \u001b[39m# BCHW\u001b[39;00m\n\u001b[0;32m    405\u001b[0m \u001b[39mfor\u001b[39;00m i \u001b[39min\u001b[39;00m \u001b[39mrange\u001b[39m(\u001b[39mself\u001b[39m\u001b[39m.\u001b[39mnl):\n\u001b[1;32m--> 406\u001b[0m     x[i] \u001b[39m=\u001b[39m torch\u001b[39m.\u001b[39mcat((\u001b[39mself\u001b[39m\u001b[39m.\u001b[39mcv2[i](x[i]), \u001b[39mself\u001b[39;49m\u001b[39m.\u001b[39;49mcv3[i](x[i])), \u001b[39m1\u001b[39m)\n\u001b[0;32m    407\u001b[0m \u001b[39mif\u001b[39;00m \u001b[39mself\u001b[39m\u001b[39m.\u001b[39mtraining:\n\u001b[0;32m    408\u001b[0m     \u001b[39mreturn\u001b[39;00m x\n",
      "File \u001b[1;32mc:\\Users\\Msk basha\\AppData\\Local\\Programs\\Python\\Python39\\lib\\site-packages\\torch\\nn\\modules\\module.py:1194\u001b[0m, in \u001b[0;36mModule._call_impl\u001b[1;34m(self, *input, **kwargs)\u001b[0m\n\u001b[0;32m   1190\u001b[0m \u001b[39m# If we don't have any hooks, we want to skip the rest of the logic in\u001b[39;00m\n\u001b[0;32m   1191\u001b[0m \u001b[39m# this function, and just call forward.\u001b[39;00m\n\u001b[0;32m   1192\u001b[0m \u001b[39mif\u001b[39;00m \u001b[39mnot\u001b[39;00m (\u001b[39mself\u001b[39m\u001b[39m.\u001b[39m_backward_hooks \u001b[39mor\u001b[39;00m \u001b[39mself\u001b[39m\u001b[39m.\u001b[39m_forward_hooks \u001b[39mor\u001b[39;00m \u001b[39mself\u001b[39m\u001b[39m.\u001b[39m_forward_pre_hooks \u001b[39mor\u001b[39;00m _global_backward_hooks\n\u001b[0;32m   1193\u001b[0m         \u001b[39mor\u001b[39;00m _global_forward_hooks \u001b[39mor\u001b[39;00m _global_forward_pre_hooks):\n\u001b[1;32m-> 1194\u001b[0m     \u001b[39mreturn\u001b[39;00m forward_call(\u001b[39m*\u001b[39m\u001b[39minput\u001b[39m, \u001b[39m*\u001b[39m\u001b[39m*\u001b[39mkwargs)\n\u001b[0;32m   1195\u001b[0m \u001b[39m# Do not call functions when jit is used\u001b[39;00m\n\u001b[0;32m   1196\u001b[0m full_backward_hooks, non_full_backward_hooks \u001b[39m=\u001b[39m [], []\n",
      "File \u001b[1;32mc:\\Users\\Msk basha\\AppData\\Local\\Programs\\Python\\Python39\\lib\\site-packages\\torch\\nn\\modules\\container.py:204\u001b[0m, in \u001b[0;36mSequential.forward\u001b[1;34m(self, input)\u001b[0m\n\u001b[0;32m    202\u001b[0m \u001b[39mdef\u001b[39;00m \u001b[39mforward\u001b[39m(\u001b[39mself\u001b[39m, \u001b[39minput\u001b[39m):\n\u001b[0;32m    203\u001b[0m     \u001b[39mfor\u001b[39;00m module \u001b[39min\u001b[39;00m \u001b[39mself\u001b[39m:\n\u001b[1;32m--> 204\u001b[0m         \u001b[39minput\u001b[39m \u001b[39m=\u001b[39m module(\u001b[39minput\u001b[39;49m)\n\u001b[0;32m    205\u001b[0m     \u001b[39mreturn\u001b[39;00m \u001b[39minput\u001b[39m\n",
      "File \u001b[1;32mc:\\Users\\Msk basha\\AppData\\Local\\Programs\\Python\\Python39\\lib\\site-packages\\torch\\nn\\modules\\module.py:1194\u001b[0m, in \u001b[0;36mModule._call_impl\u001b[1;34m(self, *input, **kwargs)\u001b[0m\n\u001b[0;32m   1190\u001b[0m \u001b[39m# If we don't have any hooks, we want to skip the rest of the logic in\u001b[39;00m\n\u001b[0;32m   1191\u001b[0m \u001b[39m# this function, and just call forward.\u001b[39;00m\n\u001b[0;32m   1192\u001b[0m \u001b[39mif\u001b[39;00m \u001b[39mnot\u001b[39;00m (\u001b[39mself\u001b[39m\u001b[39m.\u001b[39m_backward_hooks \u001b[39mor\u001b[39;00m \u001b[39mself\u001b[39m\u001b[39m.\u001b[39m_forward_hooks \u001b[39mor\u001b[39;00m \u001b[39mself\u001b[39m\u001b[39m.\u001b[39m_forward_pre_hooks \u001b[39mor\u001b[39;00m _global_backward_hooks\n\u001b[0;32m   1193\u001b[0m         \u001b[39mor\u001b[39;00m _global_forward_hooks \u001b[39mor\u001b[39;00m _global_forward_pre_hooks):\n\u001b[1;32m-> 1194\u001b[0m     \u001b[39mreturn\u001b[39;00m forward_call(\u001b[39m*\u001b[39m\u001b[39minput\u001b[39m, \u001b[39m*\u001b[39m\u001b[39m*\u001b[39mkwargs)\n\u001b[0;32m   1195\u001b[0m \u001b[39m# Do not call functions when jit is used\u001b[39;00m\n\u001b[0;32m   1196\u001b[0m full_backward_hooks, non_full_backward_hooks \u001b[39m=\u001b[39m [], []\n",
      "File \u001b[1;32mc:\\Users\\Msk basha\\AppData\\Local\\Programs\\Python\\Python39\\lib\\site-packages\\ultralytics\\nn\\modules.py:37\u001b[0m, in \u001b[0;36mConv.forward_fuse\u001b[1;34m(self, x)\u001b[0m\n\u001b[0;32m     36\u001b[0m \u001b[39mdef\u001b[39;00m \u001b[39mforward_fuse\u001b[39m(\u001b[39mself\u001b[39m, x):\n\u001b[1;32m---> 37\u001b[0m     \u001b[39mreturn\u001b[39;00m \u001b[39mself\u001b[39m\u001b[39m.\u001b[39mact(\u001b[39mself\u001b[39;49m\u001b[39m.\u001b[39;49mconv(x))\n",
      "File \u001b[1;32mc:\\Users\\Msk basha\\AppData\\Local\\Programs\\Python\\Python39\\lib\\site-packages\\torch\\nn\\modules\\module.py:1194\u001b[0m, in \u001b[0;36mModule._call_impl\u001b[1;34m(self, *input, **kwargs)\u001b[0m\n\u001b[0;32m   1190\u001b[0m \u001b[39m# If we don't have any hooks, we want to skip the rest of the logic in\u001b[39;00m\n\u001b[0;32m   1191\u001b[0m \u001b[39m# this function, and just call forward.\u001b[39;00m\n\u001b[0;32m   1192\u001b[0m \u001b[39mif\u001b[39;00m \u001b[39mnot\u001b[39;00m (\u001b[39mself\u001b[39m\u001b[39m.\u001b[39m_backward_hooks \u001b[39mor\u001b[39;00m \u001b[39mself\u001b[39m\u001b[39m.\u001b[39m_forward_hooks \u001b[39mor\u001b[39;00m \u001b[39mself\u001b[39m\u001b[39m.\u001b[39m_forward_pre_hooks \u001b[39mor\u001b[39;00m _global_backward_hooks\n\u001b[0;32m   1193\u001b[0m         \u001b[39mor\u001b[39;00m _global_forward_hooks \u001b[39mor\u001b[39;00m _global_forward_pre_hooks):\n\u001b[1;32m-> 1194\u001b[0m     \u001b[39mreturn\u001b[39;00m forward_call(\u001b[39m*\u001b[39m\u001b[39minput\u001b[39m, \u001b[39m*\u001b[39m\u001b[39m*\u001b[39mkwargs)\n\u001b[0;32m   1195\u001b[0m \u001b[39m# Do not call functions when jit is used\u001b[39;00m\n\u001b[0;32m   1196\u001b[0m full_backward_hooks, non_full_backward_hooks \u001b[39m=\u001b[39m [], []\n",
      "File \u001b[1;32mc:\\Users\\Msk basha\\AppData\\Local\\Programs\\Python\\Python39\\lib\\site-packages\\torch\\nn\\modules\\conv.py:463\u001b[0m, in \u001b[0;36mConv2d.forward\u001b[1;34m(self, input)\u001b[0m\n\u001b[0;32m    462\u001b[0m \u001b[39mdef\u001b[39;00m \u001b[39mforward\u001b[39m(\u001b[39mself\u001b[39m, \u001b[39minput\u001b[39m: Tensor) \u001b[39m-\u001b[39m\u001b[39m>\u001b[39m Tensor:\n\u001b[1;32m--> 463\u001b[0m     \u001b[39mreturn\u001b[39;00m \u001b[39mself\u001b[39;49m\u001b[39m.\u001b[39;49m_conv_forward(\u001b[39minput\u001b[39;49m, \u001b[39mself\u001b[39;49m\u001b[39m.\u001b[39;49mweight, \u001b[39mself\u001b[39;49m\u001b[39m.\u001b[39;49mbias)\n",
      "File \u001b[1;32mc:\\Users\\Msk basha\\AppData\\Local\\Programs\\Python\\Python39\\lib\\site-packages\\torch\\nn\\modules\\conv.py:459\u001b[0m, in \u001b[0;36mConv2d._conv_forward\u001b[1;34m(self, input, weight, bias)\u001b[0m\n\u001b[0;32m    455\u001b[0m \u001b[39mif\u001b[39;00m \u001b[39mself\u001b[39m\u001b[39m.\u001b[39mpadding_mode \u001b[39m!=\u001b[39m \u001b[39m'\u001b[39m\u001b[39mzeros\u001b[39m\u001b[39m'\u001b[39m:\n\u001b[0;32m    456\u001b[0m     \u001b[39mreturn\u001b[39;00m F\u001b[39m.\u001b[39mconv2d(F\u001b[39m.\u001b[39mpad(\u001b[39minput\u001b[39m, \u001b[39mself\u001b[39m\u001b[39m.\u001b[39m_reversed_padding_repeated_twice, mode\u001b[39m=\u001b[39m\u001b[39mself\u001b[39m\u001b[39m.\u001b[39mpadding_mode),\n\u001b[0;32m    457\u001b[0m                     weight, bias, \u001b[39mself\u001b[39m\u001b[39m.\u001b[39mstride,\n\u001b[0;32m    458\u001b[0m                     _pair(\u001b[39m0\u001b[39m), \u001b[39mself\u001b[39m\u001b[39m.\u001b[39mdilation, \u001b[39mself\u001b[39m\u001b[39m.\u001b[39mgroups)\n\u001b[1;32m--> 459\u001b[0m \u001b[39mreturn\u001b[39;00m F\u001b[39m.\u001b[39;49mconv2d(\u001b[39minput\u001b[39;49m, weight, bias, \u001b[39mself\u001b[39;49m\u001b[39m.\u001b[39;49mstride,\n\u001b[0;32m    460\u001b[0m                 \u001b[39mself\u001b[39;49m\u001b[39m.\u001b[39;49mpadding, \u001b[39mself\u001b[39;49m\u001b[39m.\u001b[39;49mdilation, \u001b[39mself\u001b[39;49m\u001b[39m.\u001b[39;49mgroups)\n",
      "\u001b[1;31mKeyboardInterrupt\u001b[0m: "
     ]
    }
   ],
   "source": [
    "import cv2 as cv\n",
    "from ultralytics import YOLO\n",
    "from matplotlib import pyplot as plt\n",
    "yolo=YOLO('yolov8n.pt')\n",
    "video=cv.VideoCapture(r\"D:\\Cars Project\\30 Minutes of Cars Driving By in 2009_3.mp4\")\n",
    "cap = video\n",
    "frames=[]\n",
    "# Check if the video was opened successfully\n",
    "if not cap.isOpened():\n",
    "    print(\"Error opening the video file.\")\n",
    "\n",
    "# Read the frames from the video file\n",
    "for i in range(100):\n",
    "    # Capture the frame from the video\n",
    "    ret, frame = cap.read()\n",
    "    res=yolo(frame)\n",
    "    for i in res[0].boxes.data:\n",
    "        print(list(map(int,i)))\n",
    "    # Break the loop if the video has ended or there was an error reading the frame\n",
    "    if not ret:\n",
    "        break\n",
    "    # Break the loop if the user presses the 'q' key\n",
    "    if cv.waitKey(25) & 0xFF == ord('q'):\n",
    "        break\n",
    "# Release the video capture object\n",
    "cap.release()"
   ]
  },
  {
   "cell_type": "code",
   "execution_count": null,
   "metadata": {},
   "outputs": [],
   "source": [
    "import cv2\n",
    "from matplotlib import pyplot as plt\n",
    "plt.imshow(cv2.imread())"
   ]
  },
  {
   "cell_type": "code",
   "execution_count": null,
   "metadata": {},
   "outputs": [],
   "source": []
  }
 ],
 "metadata": {
  "kernelspec": {
   "display_name": "base",
   "language": "python",
   "name": "python3"
  },
  "language_info": {
   "codemirror_mode": {
    "name": "ipython",
    "version": 3
   },
   "file_extension": ".py",
   "mimetype": "text/x-python",
   "name": "python",
   "nbconvert_exporter": "python",
   "pygments_lexer": "ipython3",
   "version": "3.9.13"
  },
  "orig_nbformat": 4,
  "vscode": {
   "interpreter": {
    "hash": "109a7a791adcdbfaec22a32a00104b79ff6746df5a91e6d72d2ee5074d800fe9"
   }
  }
 },
 "nbformat": 4,
 "nbformat_minor": 2
}
