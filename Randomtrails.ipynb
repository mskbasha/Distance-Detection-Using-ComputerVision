{
 "cells": [
  {
   "cell_type": "code",
   "execution_count": 1,
   "metadata": {},
   "outputs": [
    {
     "name": "stdout",
     "output_type": "stream",
     "text": [
      "ollo gorima bhonsal\n"
     ]
    }
   ],
   "source": [
    "print(\"ollo gorima bhonsal\")"
   ]
  },
  {
   "cell_type": "code",
   "execution_count": 4,
   "metadata": {},
   "outputs": [],
   "source": [
    "a=[10,20,30,40]\n",
    "def MCM(arr,level=0):\n",
    "    print(\"   \"*level,arr)\n",
    "    for i in range(1,len(arr)):\n",
    "        first=MCM(arr[:i],level+1)\n",
    "        secind=MCM(arr[i:],level+1)\n",
    "        \n",
    "    if len(arr)==1:\n",
    "        return arr[0]\n",
    "    return"
   ]
  },
  {
   "cell_type": "code",
   "execution_count": 5,
   "metadata": {},
   "outputs": [
    {
     "name": "stdout",
     "output_type": "stream",
     "text": [
      " [10, 20, 30, 40]\n",
      "    [10]\n",
      "    [20, 30, 40]\n",
      "       [20]\n",
      "       [30, 40]\n",
      "          [30]\n",
      "          [40]\n",
      "       [20, 30]\n",
      "          [20]\n",
      "          [30]\n",
      "       [40]\n",
      "    [10, 20]\n",
      "       [10]\n",
      "       [20]\n",
      "    [30, 40]\n",
      "       [30]\n",
      "       [40]\n",
      "    [10, 20, 30]\n",
      "       [10]\n",
      "       [20, 30]\n",
      "          [20]\n",
      "          [30]\n",
      "       [10, 20]\n",
      "          [10]\n",
      "          [20]\n",
      "       [30]\n",
      "    [40]\n"
     ]
    }
   ],
   "source": []
  },
  {
   "cell_type": "code",
   "execution_count": 27,
   "metadata": {},
   "outputs": [],
   "source": [
    "import random\n",
    "import numpy as np\n",
    "b=random.sample([x*10 for x in range(1,20)],19) \n",
    "l=[10,20,30,40,50]\n",
    "# a=[[[(),1e+10] for x in range(len(b)-1)] for x in range(len(b)-1)]"
   ]
  },
  {
   "cell_type": "code",
   "execution_count": 28,
   "metadata": {},
   "outputs": [],
   "source": [
    "a=[[1e+20 for x in range(len(l)-1)] for x in range(len(l)-1)]"
   ]
  },
  {
   "cell_type": "code",
   "execution_count": 35,
   "metadata": {},
   "outputs": [
    {
     "name": "stdout",
     "output_type": "stream",
     "text": [
      "[0, 6000, 18000, 38000] \n",
      "\n",
      "[1e+20, 0, 24000, 64000] \n",
      "\n",
      "[1e+20, 1e+20, 0, 60000] \n",
      "\n",
      "[1e+20, 1e+20, 1e+20, 0] \n",
      "\n"
     ]
    }
   ],
   "source": [
    "for i in a:\n",
    "    print(i,'\\n')"
   ]
  },
  {
   "cell_type": "code",
   "execution_count": 30,
   "metadata": {},
   "outputs": [],
   "source": [
    "for j in range(len(a)):\n",
    "    a[j][j]=0"
   ]
  },
  {
   "cell_type": "code",
   "execution_count": 34,
   "metadata": {},
   "outputs": [
    {
     "name": "stdout",
     "output_type": "stream",
     "text": [
      "2 3   \n",
      "1 2   \n",
      "1 3   \n",
      "0 1   \n",
      "0 2   \n",
      "0 3   \n"
     ]
    }
   ],
   "source": [
    "for i in range(len(a)-2,-1,-1):\n",
    "    for j in range(i,len(a)):\n",
    "        if i==j:\n",
    "            continue\n",
    "        print(i,j,end=\"   \")\n",
    "        for k in range(j-i):\n",
    "            a[i][j]=min(a[i][j],a[i][i+k]+a[k+1+i][j]+l[i]*l[j+1]*l[j])\n",
    "        print()\n",
    " "
   ]
  },
  {
   "cell_type": "code",
   "execution_count": 24,
   "metadata": {},
   "outputs": [
    {
     "data": {
      "text/plain": [
       "[10, 20, 30, 40, 50]"
      ]
     },
     "execution_count": 24,
     "metadata": {},
     "output_type": "execute_result"
    }
   ],
   "source": [
    "l"
   ]
  },
  {
   "cell_type": "code",
   "execution_count": 99,
   "metadata": {},
   "outputs": [
    {
     "data": {
      "text/plain": [
       "(40, 20)"
      ]
     },
     "execution_count": 99,
     "metadata": {},
     "output_type": "execute_result"
    }
   ],
   "source": [
    "b[0],b[-1]"
   ]
  },
  {
   "cell_type": "code",
   "execution_count": null,
   "metadata": {},
   "outputs": [],
   "source": []
  }
 ],
 "metadata": {
  "kernelspec": {
   "display_name": "Python 3",
   "language": "python",
   "name": "python3"
  },
  "language_info": {
   "codemirror_mode": {
    "name": "ipython",
    "version": 3
   },
   "file_extension": ".py",
   "mimetype": "text/x-python",
   "name": "python",
   "nbconvert_exporter": "python",
   "pygments_lexer": "ipython3",
   "version": "3.9.13"
  },
  "orig_nbformat": 4
 },
 "nbformat": 4,
 "nbformat_minor": 2
}
